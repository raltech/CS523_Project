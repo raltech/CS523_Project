{
 "metadata": {
  "language_info": {
   "codemirror_mode": {
    "name": "ipython",
    "version": 3
   },
   "file_extension": ".py",
   "mimetype": "text/x-python",
   "name": "python",
   "nbconvert_exporter": "python",
   "pygments_lexer": "ipython3",
   "version": "3.8.0"
  },
  "orig_nbformat": 4,
  "kernelspec": {
   "name": "python3",
   "display_name": "Python 3.8.0 64-bit ('dl-general': conda)"
  },
  "interpreter": {
   "hash": "672a61549a9aff1eb002383d77492293c22da78a78323e575135ff81cce884c0"
  }
 },
 "nbformat": 4,
 "nbformat_minor": 2,
 "cells": [
  {
   "cell_type": "code",
   "execution_count": 1,
   "metadata": {},
   "outputs": [],
   "source": [
    "import acme"
   ]
  },
  {
   "cell_type": "code",
   "execution_count": 2,
   "metadata": {},
   "outputs": [],
   "source": [
    "environment_library = 'gym'"
   ]
  },
  {
   "cell_type": "code",
   "execution_count": 3,
   "metadata": {},
   "outputs": [],
   "source": [
    "mjkey = \"\"\"\n",
    "\"\"\".strip()\n",
    "\n",
    "if not mjkey and environment_library == 'dm_control':\n",
    "  raise ValueError(\n",
    "      'A Mujoco license is required for `dm_control`, if you do not have on '\n",
    "      'consider selecting `gym` from the dropdown menu in the cell above.')"
   ]
  },
  {
   "cell_type": "code",
   "execution_count": 4,
   "metadata": {},
   "outputs": [
    {
     "output_type": "stream",
     "name": "stdout",
     "text": [
      "Requirement already satisfied: gym in /home/hayato/anaconda3/envs/dl-general/lib/python3.8/site-packages (0.18.3)\nRequirement already satisfied: numpy>=1.10.4 in /home/hayato/anaconda3/envs/dl-general/lib/python3.8/site-packages (from gym) (1.19.5)\nRequirement already satisfied: Pillow<=8.2.0 in /home/hayato/anaconda3/envs/dl-general/lib/python3.8/site-packages (from gym) (8.2.0)\nRequirement already satisfied: pyglet<=1.5.15,>=1.4.0 in /home/hayato/anaconda3/envs/dl-general/lib/python3.8/site-packages (from gym) (1.5.15)\nRequirement already satisfied: cloudpickle<1.7.0,>=1.2.0 in /home/hayato/anaconda3/envs/dl-general/lib/python3.8/site-packages (from gym) (1.6.0)\nRequirement already satisfied: scipy in /home/hayato/anaconda3/envs/dl-general/lib/python3.8/site-packages (from gym) (1.6.3)\n"
     ]
    }
   ],
   "source": [
    "#@test {\"skip\": true}\n",
    "if environment_library == 'dm_control':\n",
    "  mujoco_dir = \"$HOME/.mujoco\"\n",
    "\n",
    "  # Install OpenGL dependencies\n",
    "  !apt-get update && apt-get install -y --no-install-recommends \\\n",
    "    libgl1-mesa-glx libosmesa6 libglew2.0\n",
    "\n",
    "  # Get MuJoCo binaries\n",
    "  !wget -q https://www.roboti.us/download/mujoco200_linux.zip -O mujoco.zip\n",
    "  !unzip -o -q mujoco.zip -d \"$mujoco_dir\"\n",
    "\n",
    "  # Copy over MuJoCo license\n",
    "  !echo \"$mjkey\" > \"$mujoco_dir/mjkey.txt\"\n",
    "\n",
    "  # Install dm_control\n",
    "  !pip install dm_control\n",
    "\n",
    "  # Configure dm_control to use the OSMesa rendering backend\n",
    "  %env MUJOCO_GL=osmesa\n",
    "\n",
    "  # Check that the installation succeeded\n",
    "  try:\n",
    "    from dm_control import suite\n",
    "    env = suite.load('cartpole', 'swingup')\n",
    "    pixels = env.physics.render()\n",
    "  except Exception as e:\n",
    "    raise e from RuntimeError(\n",
    "        'Something went wrong during installation. Check the shell output above '\n",
    "        'for more information. If you do not have a valid Mujoco license, '\n",
    "        'consider selecting `gym` in the dropdown menu at the top of this Colab.')\n",
    "  else:\n",
    "    del suite, env, pixels\n",
    "\n",
    "elif environment_library == 'gym':\n",
    "  !pip install gym"
   ]
  },
  {
   "cell_type": "code",
   "execution_count": 5,
   "metadata": {},
   "outputs": [],
   "source": [
    "import IPython\n",
    "\n",
    "from acme import environment_loop\n",
    "from acme import specs\n",
    "from acme import wrappers\n",
    "from acme.agents.tf import d4pg\n",
    "from acme.tf import networks\n",
    "from acme.tf import utils as tf2_utils\n",
    "from acme.utils import loggers\n",
    "import numpy as np\n",
    "import sonnet as snt\n",
    "\n",
    "# Import the selected environment lib\n",
    "if environment_library == 'dm_control':\n",
    "  from dm_control import suite\n",
    "elif environment_library == 'gym':\n",
    "  import gym\n",
    "\n",
    "# Imports required for visualization\n",
    "import pyvirtualdisplay\n",
    "import imageio\n",
    "import base64\n",
    "\n",
    "# Set up a virtual display for rendering.\n",
    "display = pyvirtualdisplay.Display(visible=0, size=(1400, 900)).start()"
   ]
  },
  {
   "cell_type": "code",
   "execution_count": 6,
   "metadata": {},
   "outputs": [],
   "source": [
    "if environment_library == 'dm_control':\n",
    "  environment = suite.load('cartpole', 'balance')\n",
    "  \n",
    "elif environment_library == 'gym':\n",
    "  environment = gym.make('MountainCarContinuous-v0')\n",
    "  environment = wrappers.GymWrapper(environment)  # To dm_env interface.\n",
    "\n",
    "else:\n",
    "  raise ValueError(\n",
    "      \"Unknown environment library: {};\".format(environment_name) +\n",
    "      \"choose among ['dm_control', 'gym'].\")\n",
    "\n",
    "# Make sure the environment outputs single-precision floats.\n",
    "environment = wrappers.SinglePrecisionWrapper(environment)\n",
    "\n",
    "# Grab the spec of the environment.\n",
    "environment_spec = specs.make_environment_spec(environment)"
   ]
  },
  {
   "cell_type": "code",
   "execution_count": 7,
   "metadata": {},
   "outputs": [],
   "source": [
    "#@title Build agent networks\n",
    "\n",
    "# Get total number of action dimensions from action spec.\n",
    "num_dimensions = np.prod(environment_spec.actions.shape, dtype=int)\n",
    "\n",
    "# Create the shared observation network; here simply a state-less operation.\n",
    "observation_network = tf2_utils.batch_concat\n",
    "\n",
    "# Create the deterministic policy network.\n",
    "policy_network = snt.Sequential([\n",
    "    networks.LayerNormMLP((256, 256, 256), activate_final=True),\n",
    "    networks.NearZeroInitializedLinear(num_dimensions),\n",
    "    networks.TanhToSpec(environment_spec.actions),\n",
    "])\n",
    "\n",
    "# Create the distributional critic network.\n",
    "critic_network = snt.Sequential([\n",
    "    # The multiplexer concatenates the observations/actions.\n",
    "    networks.CriticMultiplexer(),\n",
    "    networks.LayerNormMLP((512, 512, 256), activate_final=True),\n",
    "    networks.DiscreteValuedHead(vmin=-150., vmax=150., num_atoms=51),\n",
    "])"
   ]
  },
  {
   "cell_type": "code",
   "execution_count": 8,
   "metadata": {},
   "outputs": [],
   "source": [
    "# Create a logger for the agent and environment loop.\n",
    "agent_logger = loggers.TerminalLogger(label='agent', time_delta=10.)\n",
    "env_loop_logger = loggers.TerminalLogger(label='env_loop', time_delta=10.)\n",
    "\n",
    "# Create the D4PG agent.\n",
    "agent = d4pg.D4PG(\n",
    "    environment_spec=environment_spec,\n",
    "    policy_network=policy_network,\n",
    "    critic_network=critic_network,\n",
    "    observation_network=observation_network,\n",
    "    sigma=1.0,\n",
    "    logger=agent_logger,\n",
    "    checkpoint=False\n",
    ")\n",
    "\n",
    "# Create an loop connecting this agent to the environment created above.\n",
    "env_loop = environment_loop.EnvironmentLoop(\n",
    "    environment, agent, logger=env_loop_logger)"
   ]
  },
  {
   "cell_type": "code",
   "execution_count": 13,
   "metadata": {},
   "outputs": [],
   "source": [
    "# Run a `num_episodes` training episodes.\n",
    "# Rerun this cell until the agent has learned the given task.\n",
    "env_loop.run(num_episodes=150)"
   ]
  },
  {
   "cell_type": "code",
   "execution_count": 14,
   "metadata": {},
   "outputs": [],
   "source": [
    "# Create a simple helper function to render a frame from the current state of\n",
    "# the environment.\n",
    "if environment_library == 'dm_control':\n",
    "  def render(env):\n",
    "    return env.physics.render(camera_id=0)\n",
    "elif environment_library == 'gym':\n",
    "  def render(env):\n",
    "    return env.environment.render(mode='rgb_array')\n",
    "else:\n",
    "  raise ValueError(\n",
    "      \"Unknown environment library: {};\".format(environment_name) +\n",
    "      \"choose among ['dm_control', 'gym'].\")\n",
    "\n",
    "def display_video(frames, filename='temp.mp4'):\n",
    "  \"\"\"Save and display video.\"\"\"\n",
    "\n",
    "  # Write video\n",
    "  with imageio.get_writer(filename, fps=60) as video:\n",
    "    for frame in frames:\n",
    "      video.append_data(frame)\n",
    "\n",
    "  # Read video and display the video\n",
    "  video = open(filename, 'rb').read()\n",
    "  b64_video = base64.b64encode(video)\n",
    "  video_tag = ('<video  width=\"320\" height=\"240\" controls alt=\"test\" '\n",
    "               'src=\"data:video/mp4;base64,{0}\">').format(b64_video.decode())\n",
    "\n",
    "  return IPython.display.HTML(video_tag)"
   ]
  },
  {
   "cell_type": "code",
   "execution_count": 15,
   "metadata": {},
   "outputs": [
    {
     "output_type": "stream",
     "name": "stderr",
     "text": [
      "WARNING:imageio_ffmpeg:IMAGEIO FFMPEG_WRITER WARNING: input image is not divisible by macro_block_size=16, resizing from (600, 400) to (608, 400) to ensure video compatibility with most codecs and players. To prevent resizing, make your input image divisible by the macro_block_size or set the macro_block_size to 1 (risking incompatibility).\n"
     ]
    },
    {
     "output_type": "execute_result",
     "data": {
      "text/plain": [
       "<IPython.core.display.HTML object>"
      ],
      "text/html": "<video  width=\"320\" height=\"240\" controls alt=\"test\" src=\"data:video/mp4;base64,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\">"
     },
     "metadata": {},
     "execution_count": 15
    }
   ],
   "source": [
    "timestep = environment.reset()\n",
    "frames = [render(environment)]\n",
    "\n",
    "while not timestep.last():\n",
    "  # Simple environment loop.\n",
    "  action = agent.select_action(timestep.observation)\n",
    "  timestep = environment.step(action)\n",
    "\n",
    "  # Render the scene and add it to the frame stack.\n",
    "  frames.append(render(environment))\n",
    "\n",
    "# Save and display a video of the behaviour.\n",
    "display_video(np.array(frames))"
   ]
  },
  {
   "cell_type": "code",
   "execution_count": null,
   "metadata": {},
   "outputs": [],
   "source": []
  }
 ]
}