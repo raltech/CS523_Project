{
 "metadata": {
  "language_info": {
   "codemirror_mode": {
    "name": "ipython",
    "version": 3
   },
   "file_extension": ".py",
   "mimetype": "text/x-python",
   "name": "python",
   "nbconvert_exporter": "python",
   "pygments_lexer": "ipython3",
   "version": "3.8.10"
  },
  "orig_nbformat": 4,
  "kernelspec": {
   "name": "python3",
   "display_name": "Python 3.8.10 64-bit ('acme': conda)"
  },
  "interpreter": {
   "hash": "5e2adf09cdb43c263258dfa5561b9ad16f8c3db7d754cf79b5f399c116e82185"
  }
 },
 "nbformat": 4,
 "nbformat_minor": 2,
 "cells": [
  {
   "cell_type": "code",
   "execution_count": 24,
   "metadata": {},
   "outputs": [],
   "source": [
    "import acme"
   ]
  },
  {
   "cell_type": "code",
   "execution_count": 25,
   "metadata": {},
   "outputs": [],
   "source": [
    "environment_library = 'gym'"
   ]
  },
  {
   "cell_type": "code",
   "execution_count": 26,
   "metadata": {},
   "outputs": [],
   "source": [
    "mjkey = \"\"\"\n",
    "\"\"\".strip()\n",
    "\n",
    "if not mjkey and environment_library == 'dm_control':\n",
    "  raise ValueError(\n",
    "      'A Mujoco license is required for `dm_control`, if you do not have on '\n",
    "      'consider selecting `gym` from the dropdown menu in the cell above.')"
   ]
  },
  {
   "cell_type": "code",
   "execution_count": 27,
   "metadata": {},
   "outputs": [
    {
     "output_type": "stream",
     "name": "stdout",
     "text": [
      "Requirement already satisfied: gym in /home/hayato/anaconda3/envs/acme/lib/python3.8/site-packages (0.18.3)\n",
      "Requirement already satisfied: cloudpickle<1.7.0,>=1.2.0 in /home/hayato/anaconda3/envs/acme/lib/python3.8/site-packages (from gym) (1.6.0)\n",
      "Requirement already satisfied: numpy>=1.10.4 in /home/hayato/anaconda3/envs/acme/lib/python3.8/site-packages (from gym) (1.19.5)\n",
      "Requirement already satisfied: Pillow<=8.2.0 in /home/hayato/anaconda3/envs/acme/lib/python3.8/site-packages (from gym) (8.2.0)\n",
      "Requirement already satisfied: pyglet<=1.5.15,>=1.4.0 in /home/hayato/anaconda3/envs/acme/lib/python3.8/site-packages (from gym) (1.5.15)\n",
      "Requirement already satisfied: scipy in /home/hayato/anaconda3/envs/acme/lib/python3.8/site-packages (from gym) (1.7.0)\n"
     ]
    }
   ],
   "source": [
    "#@test {\"skip\": true}\n",
    "if environment_library == 'dm_control':\n",
    "  mujoco_dir = \"$HOME/.mujoco\"\n",
    "\n",
    "  # Install OpenGL dependencies\n",
    "  !apt-get update && apt-get install -y --no-install-recommends \\\n",
    "    libgl1-mesa-glx libosmesa6 libglew2.0\n",
    "\n",
    "  # Get MuJoCo binaries\n",
    "  !wget -q https://www.roboti.us/download/mujoco200_linux.zip -O mujoco.zip\n",
    "  !unzip -o -q mujoco.zip -d \"$mujoco_dir\"\n",
    "\n",
    "  # Copy over MuJoCo license\n",
    "  !echo \"$mjkey\" > \"$mujoco_dir/mjkey.txt\"\n",
    "\n",
    "  # Install dm_control\n",
    "  !pip install dm_control\n",
    "\n",
    "  # Configure dm_control to use the OSMesa rendering backend\n",
    "  %env MUJOCO_GL=osmesa\n",
    "\n",
    "  # Check that the installation succeeded\n",
    "  try:\n",
    "    from dm_control import suite\n",
    "    env = suite.load('cartpole', 'swingup')\n",
    "    pixels = env.physics.render()\n",
    "  except Exception as e:\n",
    "    raise e from RuntimeError(\n",
    "        'Something went wrong during installation. Check the shell output above '\n",
    "        'for more information. If you do not have a valid Mujoco license, '\n",
    "        'consider selecting `gym` in the dropdown menu at the top of this Colab.')\n",
    "  else:\n",
    "    del suite, env, pixels\n",
    "\n",
    "elif environment_library == 'gym':\n",
    "  !pip install gym"
   ]
  },
  {
   "cell_type": "code",
   "execution_count": 28,
   "metadata": {},
   "outputs": [],
   "source": [
    "import IPython\n",
    "\n",
    "from acme import environment_loop\n",
    "from acme import specs\n",
    "from acme import wrappers\n",
    "from acme.agents.tf import d4pg\n",
    "from acme.tf import networks\n",
    "from acme.tf import utils as tf2_utils\n",
    "from acme.utils import loggers\n",
    "import numpy as np\n",
    "import sonnet as snt\n",
    "\n",
    "from acme.agents.tf import dqn\n",
    "from acme.tf import networks\n",
    "\n",
    "# Import the selected environment lib\n",
    "if environment_library == 'dm_control':\n",
    "  from dm_control import suite\n",
    "elif environment_library == 'gym':\n",
    "  import gym\n",
    "\n",
    "# Imports required for visualization\n",
    "import pyvirtualdisplay\n",
    "import imageio\n",
    "import base64\n",
    "\n",
    "# Set up a virtual display for rendering.\n",
    "display = pyvirtualdisplay.Display(visible=0, size=(1400, 900)).start()"
   ]
  },
  {
   "cell_type": "code",
   "execution_count": 29,
   "metadata": {},
   "outputs": [],
   "source": [
    "if environment_library == 'dm_control':\n",
    "  environment = suite.load('cartpole', 'balance')\n",
    "  \n",
    "elif environment_library == 'gym':\n",
    "  environment = gym.make('MountainCarContinuous-v0')\n",
    "  # environment = gym.make('PongNoFrameskip-v4')\n",
    "  environment = wrappers.GymWrapper(environment)  # To dm_env interface.\n",
    "\n",
    "else:\n",
    "  raise ValueError(\n",
    "      \"Unknown environment library: {};\".format(environment_name) +\n",
    "      \"choose among ['dm_control', 'gym'].\")\n",
    "\n",
    "# Make sure the environment outputs single-precision floats.\n",
    "environment = wrappers.SinglePrecisionWrapper(environment)\n",
    "\n",
    "# Grab the spec of the environment.\n",
    "environment_spec = specs.make_environment_spec(environment)"
   ]
  },
  {
   "cell_type": "code",
   "execution_count": 30,
   "metadata": {},
   "outputs": [],
   "source": [
    "#@title Build agent networks\n",
    "\n",
    "# Get total number of action dimensions from action spec.\n",
    "num_dimensions = np.prod(environment_spec.actions.shape, dtype=int)\n",
    "\n",
    "# Create the shared observation network; here simply a state-less operation.\n",
    "observation_network = tf2_utils.batch_concat\n",
    "\n",
    "# Create the deterministic policy network.\n",
    "policy_network = snt.Sequential([\n",
    "    networks.LayerNormMLP((256, 256, 256), activate_final=True),\n",
    "    networks.NearZeroInitializedLinear(num_dimensions),\n",
    "    networks.TanhToSpec(environment_spec.actions),\n",
    "])\n",
    "\n",
    "# Create the distributional critic network.\n",
    "critic_network = snt.Sequential([\n",
    "    # The multiplexer concatenates the observations/actions.\n",
    "    networks.CriticMultiplexer(),\n",
    "    networks.LayerNormMLP((512, 512, 256), activate_final=True),\n",
    "    networks.DiscreteValuedHead(vmin=-150., vmax=150., num_atoms=51),\n",
    "])"
   ]
  },
  {
   "cell_type": "code",
   "execution_count": 31,
   "metadata": {},
   "outputs": [],
   "source": [
    "# Create a logger for the agent and environment loop.\n",
    "agent_logger = loggers.TerminalLogger(label='agent', time_delta=10.)\n",
    "env_loop_logger = loggers.TerminalLogger(label='env_loop', time_delta=10.)\n",
    "\n",
    "# network = networks.DQNAtariNetwork(environment_spec.actions.num_values)\n",
    "# agent = dqn.DQN(environment_spec, network)\n",
    "\n",
    "# Create the D4PG agent.\n",
    "agent = d4pg.D4PG(\n",
    "    environment_spec=environment_spec,\n",
    "    policy_network=policy_network,\n",
    "    critic_network=critic_network,\n",
    "    observation_network=observation_network,\n",
    "    sigma=1.0,\n",
    "    logger=agent_logger,\n",
    "    checkpoint=False\n",
    ")\n",
    "\n",
    "# Create an loop connecting this agent to the environment created above.\n",
    "env_loop = environment_loop.EnvironmentLoop(\n",
    "    environment, agent, logger=env_loop_logger)"
   ]
  },
  {
   "cell_type": "code",
   "execution_count": 32,
   "metadata": {},
   "outputs": [],
   "source": [
    "# Run a `num_episodes` training episodes.\n",
    "# Rerun this cell until the agent has learned the given task.\n",
    "env_loop.run(num_episodes=150)"
   ]
  },
  {
   "cell_type": "code",
   "execution_count": 33,
   "metadata": {},
   "outputs": [],
   "source": [
    "# Create a simple helper function to render a frame from the current state of\n",
    "# the environment.\n",
    "if environment_library == 'dm_control':\n",
    "  def render(env):\n",
    "    return env.physics.render(camera_id=0)\n",
    "elif environment_library == 'gym':\n",
    "  def render(env):\n",
    "    return env.environment.render(mode='rgb_array')\n",
    "else:\n",
    "  raise ValueError(\n",
    "      \"Unknown environment library: {};\".format(environment_name) +\n",
    "      \"choose among ['dm_control', 'gym'].\")\n",
    "\n",
    "def display_video(frames, filename='temp.mp4'):\n",
    "  \"\"\"Save and display video.\"\"\"\n",
    "\n",
    "  # Write video\n",
    "  with imageio.get_writer(filename, fps=60) as video:\n",
    "    for frame in frames:\n",
    "      video.append_data(frame)\n",
    "\n",
    "  # Read video and display the video\n",
    "  video = open(filename, 'rb').read()\n",
    "  b64_video = base64.b64encode(video)\n",
    "  video_tag = ('<video  width=\"320\" height=\"240\" controls alt=\"test\" '\n",
    "               'src=\"data:video/mp4;base64,{0}\">').format(b64_video.decode())\n",
    "\n",
    "  return IPython.display.HTML(video_tag)"
   ]
  },
  {
   "cell_type": "code",
   "execution_count": 35,
   "metadata": {},
   "outputs": [
    {
     "output_type": "stream",
     "name": "stderr",
     "text": [
      "WARNING:imageio_ffmpeg:IMAGEIO FFMPEG_WRITER WARNING: input image is not divisible by macro_block_size=16, resizing from (600, 400) to (608, 400) to ensure video compatibility with most codecs and players. To prevent resizing, make your input image divisible by the macro_block_size or set the macro_block_size to 1 (risking incompatibility).\n"
     ]
    },
    {
     "output_type": "execute_result",
     "data": {
      "text/plain": [
       "<IPython.core.display.HTML object>"
      ],
      "text/html": "<video  width=\"320\" height=\"240\" controls alt=\"test\" src=\"data:video/mp4;base64,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\">"
     },
     "metadata": {},
     "execution_count": 35
    }
   ],
   "source": [
    "timestep = environment.reset()\n",
    "frames = [render(environment)]\n",
    "\n",
    "while not timestep.last():\n",
    "  # Simple environment loop.\n",
    "  action = agent.select_action(timestep.observation)\n",
    "  timestep = environment.step(action)\n",
    "\n",
    "  # Render the scene and add it to the frame stack.\n",
    "  frames.append(render(environment))\n",
    "\n",
    "# Save and display a video of the behaviour.\n",
    "display_video(np.array(frames))"
   ]
  },
  {
   "cell_type": "code",
   "execution_count": null,
   "metadata": {},
   "outputs": [],
   "source": []
  }
 ]
}