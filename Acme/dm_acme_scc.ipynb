{
 "metadata": {
  "language_info": {
   "codemirror_mode": {
    "name": "ipython",
    "version": 3
   },
   "file_extension": ".py",
   "mimetype": "text/x-python",
   "name": "python",
   "nbconvert_exporter": "python",
   "pygments_lexer": "ipython3",
   "version": "3.8.10"
  },
  "orig_nbformat": 4,
  "kernelspec": {
   "name": "python3",
   "display_name": "Python 3.8.10 64-bit ('acme': conda)"
  },
  "interpreter": {
   "hash": "5e2adf09cdb43c263258dfa5561b9ad16f8c3db7d754cf79b5f399c116e82185"
  }
 },
 "nbformat": 4,
 "nbformat_minor": 2,
 "cells": [
  {
   "cell_type": "code",
   "execution_count": 1,
   "metadata": {},
   "outputs": [
    {
     "output_type": "stream",
     "name": "stderr",
     "text": [
      "DEBUG:root:Needed to run for Jupyter Notebook\n"
     ]
    }
   ],
   "source": [
    "# import logging\n",
    "# logger = logging.getLogger()\n",
    "# logger.setLevel(logging.DEBUG)\n",
    "# logging.debug('Needed to run for Jupyter Notebook')"
   ]
  },
  {
   "cell_type": "code",
   "execution_count": null,
   "metadata": {},
   "outputs": [],
   "source": [
    "# Installation\n",
    "!pip install dm-acme\n",
    "!pip install dm-acme[reverb]\n",
    "!pip install dm-acme[tf]\n",
    "\n",
    "!pip install gym"
   ]
  },
  {
   "cell_type": "code",
   "execution_count": null,
   "metadata": {},
   "outputs": [],
   "source": [
    "!sudo apt-get install -y xvfb ffmpeg\n",
    "!pip install imageio\n",
    "!pip install PILLOW\n",
    "!pip install pyvirtualdisplay"
   ]
  },
  {
   "cell_type": "code",
   "execution_count": 3,
   "metadata": {},
   "outputs": [],
   "source": [
    "environment_library = 'gym'"
   ]
  },
  {
   "cell_type": "code",
   "execution_count": 2,
   "metadata": {},
   "outputs": [],
   "source": [
    "import acme"
   ]
  },
  {
   "cell_type": "code",
   "execution_count": 4,
   "metadata": {},
   "outputs": [
    {
     "output_type": "stream",
     "name": "stderr",
     "text": [
      "DEBUG:matplotlib:matplotlib data path: /home/hayato/anaconda3/envs/acme/lib/python3.8/site-packages/matplotlib/mpl-data\n",
      "DEBUG:matplotlib:CONFIGDIR=/home/hayato/.config/matplotlib\n",
      "DEBUG:matplotlib:matplotlib version 3.4.2\n",
      "DEBUG:matplotlib:interactive is False\n",
      "DEBUG:matplotlib:platform is linux\n",
      "DEBUG:matplotlib:loaded modules: ['sys', 'builtins', '_frozen_importlib', '_imp', '_warnings', '_io', 'marshal', 'posix', '_frozen_importlib_external', '_thread', '_weakref', 'time', 'zipimport', '_codecs', 'codecs', 'encodings.aliases', 'encodings', 'encodings.utf_8', '_signal', '__main__', 'encodings.latin_1', '_abc', 'abc', 'io', '_stat', 'stat', '_collections_abc', 'genericpath', 'posixpath', 'os.path', 'os', '_sitebuiltins', '_locale', '_bootlocale', 'types', 'importlib._bootstrap', 'importlib._bootstrap_external', 'warnings', 'importlib', 'importlib.machinery', 'importlib.abc', '_operator', 'operator', 'keyword', '_heapq', 'heapq', 'itertools', 'reprlib', '_collections', 'collections', '_functools', 'functools', 'contextlib', 'importlib.util', 'google', 'google.logging', 'mpl_toolkits', 'site', 'enum', '_sre', 'sre_constants', 'sre_parse', 'sre_compile', 'copyreg', 're', '_json', 'json.scanner', 'json.decoder', 'json.encoder', 'json', '_weakrefset', 'weakref', 'pkgutil', 'runpy', 'ipykernel._version', '__future__', 'errno', 'signal', 'threading', '_posixsubprocess', 'select', 'collections.abc', 'math', 'selectors', 'subprocess', 'IPython.core', 'IPython.core.getipython', 'IPython.core.release', 'atexit', 'copy', 'fnmatch', 'glob', 'token', 'tokenize', 'linecache', 'traceback', '_string', 'string', 'logging', 'zlib', '_compression', '_bz2', 'bz2', '_lzma', 'lzma', 'pwd', 'grp', 'shutil', '_ast', 'ast', '_opcode', 'opcode', 'dis', 'inspect', 'traitlets.utils', 'traitlets.utils.getargspec', 'traitlets.utils.importstring', 'traitlets.utils.sentinel', 'traitlets.utils.bunch', 'traitlets.utils.descriptions', 'traitlets.traitlets', 'traitlets.utils.decorators', 'traitlets._version', 'traitlets', 'pprint', 'locale', 'gettext', 'argparse', 'ipython_genutils._version', 'ipython_genutils', '_bisect', 'bisect', '_sha512', '_random', 'random', 'ipython_genutils.encoding', 'platform', 'ipython_genutils.py3compat', 'ipython_genutils.path', 'traitlets.config.loader', 'textwrap', 'ipython_genutils.text', 'traitlets.config.configurable', 'traitlets.config.application', 'traitlets.config', 'sysconfig', 'urllib', 'urllib.parse', '_sysconfigdata__linux_x86_64-linux-gnu', 'pydoc', 'bdb', 'IPython.utils', 'IPython.utils.ipstruct', 'IPython.utils.coloransi', 'pygments', 'IPython.utils.colorable', 'IPython.utils.PyColorize', 'IPython.utils.encoding', 'IPython.utils.py3compat', 'IPython.core.excolors', 'IPython.testing', 'IPython.testing.skipdoctest', 'cmd', 'codeop', 'code', 'pdb', 'IPython.core.debugger', 'IPython.core.display_trap', 'pexpect.exceptions', 'pexpect.utils', 'pexpect.expect', 'termios', 'tty', 'pty', 'fcntl', 'resource', '_struct', 'struct', 'ptyprocess.util', 'ptyprocess.ptyprocess', 'ptyprocess', 'pexpect.spawnbase', 'pexpect.pty_spawn', 'pexpect.run', 'pexpect', 'shlex', 'IPython.utils._process_common', 'IPython.utils._process_posix', 'IPython.utils.process', 'IPython.utils.decorators', 'IPython.utils.path', 'IPython.utils.data', 'IPython.utils.terminal', 'IPython.core.ultratb', 'IPython.utils._sysinfo', 'IPython.utils.sysinfo', 'IPython.core.crashhandler', 'tempfile', 'IPython.utils.importstring', 'IPython.paths', 'IPython.core.profiledir', 'IPython.core.application', 'IPython.terminal', '_hashlib', '_blake2', '_sha3', 'hashlib', 'IPython.core.compilerop', 'IPython.core.error', 'ntpath', 'pathlib', 'IPython.utils.text', 'IPython.core.magic_arguments', 'getopt', 'typing.io', 'typing.re', 'typing', 'binascii', 'mimetypes', 'IPython.core.display', 'IPython.core.page', 'getpass', 'IPython.lib.security', 'IPython.lib', '_datetime', 'datetime', 'IPython.lib.pretty', 'IPython.utils.openpy', 'IPython.utils.dir2', 'IPython.utils.wildcard', 'pygments.lexers._mapping', 'pygments.modeline', 'pygments.plugin', 'pygments.util', 'pygments.lexers', 'pygments.filter', 'pygments.token', 'pygments.filters', 'pygments.regexopt', 'pygments.lexer', 'pygments.unistring', 'pygments.lexers.python', 'pygments.formatters._mapping', 'pygments.formatters', 'pygments.styles', 'pygments.formatter', 'pygments.formatters.html', 'IPython.core.oinspect', 'IPython.core.inputtransformer2', 'decorator', 'IPython.core.magic', '_compat_pickle', '_pickle', 'pickle', 'pickleshare', 'IPython.core.autocall', 'IPython.core.macro', 'IPython.core.splitinput', 'IPython.core.prefilter', 'IPython.core.alias', 'IPython.core.builtin_trap', 'backcall.backcall', 'backcall', 'IPython.core.events', 'IPython.core.displayhook', 'IPython.core.displaypub', 'IPython.core.extensions', 'IPython.utils.sentinel', 'IPython.core.formatters', '_sqlite3', 'sqlite3.dbapi2', 'sqlite3', 'IPython.core.history', 'IPython.core.logger', 'IPython.core.payload', 'IPython.core.usage', 'html.entities', 'html', 'IPython.lib.display', 'IPython.display', 'IPython.utils.capture', 'IPython.utils.io', 'IPython.core.hooks', 'IPython.utils.strdispatch', 'IPython.utils.syspathcontext', 'IPython.utils.tempdir', 'IPython.utils.contexts', 'IPython.core.async_helpers', 'IPython.core.interactiveshell', 'concurrent', 'concurrent.futures._base', 'concurrent.futures', '_socket', 'socket', '_ssl', 'base64', 'ssl', 'asyncio.constants', 'asyncio.format_helpers', 'asyncio.base_futures', 'asyncio.log', 'asyncio.coroutines', '_contextvars', 'contextvars', 'asyncio.exceptions', 'asyncio.base_tasks', '_asyncio', 'asyncio.events', 'asyncio.futures', 'asyncio.protocols', 'asyncio.transports', 'asyncio.sslproto', 'asyncio.locks', 'asyncio.tasks', 'asyncio.staggered', 'asyncio.trsock', 'asyncio.base_events', 'asyncio.runners', 'asyncio.queues', 'asyncio.streams', 'asyncio.subprocess', 'asyncio.base_subprocess', 'asyncio.selector_events', 'asyncio.unix_events', 'asyncio', 'prompt_toolkit.application.current', 'prompt_toolkit.eventloop.utils', 'prompt_toolkit.eventloop.async_generator', 'wcwidth.table_wide', 'wcwidth.table_zero', 'wcwidth.unicode_versions', 'wcwidth.wcwidth', 'wcwidth', 'prompt_toolkit.utils', 'prompt_toolkit.eventloop.inputhook', 'prompt_toolkit.eventloop', 'prompt_toolkit.application.run_in_terminal', 'prompt_toolkit.selection', 'prompt_toolkit.clipboard.base', 'prompt_toolkit.clipboard.in_memory', 'prompt_toolkit.clipboard', 'prompt_toolkit.cache', 'prompt_toolkit.enums', 'prompt_toolkit.filters.base', 'prompt_toolkit.filters.app', 'prompt_toolkit.filters.cli', 'prompt_toolkit.filters.utils', 'prompt_toolkit.filters', 'prompt_toolkit.document', 'prompt_toolkit.auto_suggest', 'prompt_toolkit.data_structures', 'prompt_toolkit.styles.base', 'prompt_toolkit.styles.named_colors', 'prompt_toolkit.styles.style', 'prompt_toolkit.styles.defaults', 'prompt_toolkit.styles.pygments', 'colorsys', 'prompt_toolkit.styles.style_transformation', 'prompt_toolkit.styles', 'prompt_toolkit.output.color_depth', 'prompt_toolkit.output.base', 'prompt_toolkit.output.defaults', 'prompt_toolkit.output', 'array', 'prompt_toolkit.output.vt100', 'prompt_toolkit.mouse_events', 'prompt_toolkit.formatted_text.base', 'prompt_toolkit.formatted_text.ansi', 'xml', 'xml.dom.domreg', 'xml.dom', 'xml.dom.minicompat', 'xml.dom.NodeFilter', 'xml.dom.xmlbuilder', 'xml.dom.minidom', 'prompt_toolkit.formatted_text.html', 'prompt_toolkit.formatted_text.pygments', 'prompt_toolkit.formatted_text.utils', 'prompt_toolkit.formatted_text', 'prompt_toolkit.completion.base', 'prompt_toolkit.completion.deduplicate', 'prompt_toolkit.completion.filesystem', 'prompt_toolkit.completion.word_completer', 'prompt_toolkit.completion.fuzzy_completer', 'prompt_toolkit.completion.nested', 'prompt_toolkit.completion', 'prompt_toolkit.history', 'prompt_toolkit.keys', 'prompt_toolkit.key_binding.key_bindings', 'prompt_toolkit.key_binding.key_processor', 'prompt_toolkit.key_binding', 'prompt_toolkit.key_binding.vi_state', 'prompt_toolkit.search', 'prompt_toolkit.validation', 'prompt_toolkit.buffer', 'prompt_toolkit.input.base', 'prompt_toolkit.input.defaults', 'prompt_toolkit.input', 'prompt_toolkit.input.typeahead', 'prompt_toolkit.key_binding.bindings', 'prompt_toolkit.key_binding.bindings.scroll', 'prompt_toolkit.key_binding.bindings.page_navigation', 'prompt_toolkit.lexers.base', 'prompt_toolkit.lexers.pygments', 'prompt_toolkit.lexers', 'prompt_toolkit.layout.utils', 'prompt_toolkit.layout.processors', 'prompt_toolkit.layout.controls', 'prompt_toolkit.layout.dimension', 'prompt_toolkit.layout.margins', 'prompt_toolkit.layout.mouse_handlers', 'prompt_toolkit.layout.screen', 'prompt_toolkit.layout.containers', 'prompt_toolkit.layout.layout', 'prompt_toolkit.layout.menus', 'prompt_toolkit.layout.scrollable_pane', 'prompt_toolkit.layout', 'prompt_toolkit.key_binding.bindings.completion', 'prompt_toolkit.key_binding.bindings.named_commands', 'prompt_toolkit.key_binding.bindings.basic', 'prompt_toolkit.key_binding.bindings.cpr', 'prompt_toolkit.key_binding.bindings.emacs', 'prompt_toolkit.key_binding.bindings.mouse', 'prompt_toolkit.input.ansi_escape_sequences', 'prompt_toolkit.input.vt100_parser', 'prompt_toolkit.key_binding.digraphs', 'prompt_toolkit.key_binding.bindings.vi', 'prompt_toolkit.key_binding.defaults', 'prompt_toolkit.key_binding.emacs_state', 'prompt_toolkit.layout.dummy', 'prompt_toolkit.renderer', 'prompt_toolkit.application.application', 'prompt_toolkit.application.dummy', 'prompt_toolkit.application', 'prompt_toolkit.key_binding.bindings.focus', 'prompt_toolkit.widgets.toolbars', 'prompt_toolkit.widgets.base', 'prompt_toolkit.widgets.dialogs', 'prompt_toolkit.widgets.menus', 'prompt_toolkit.widgets', 'prompt_toolkit.shortcuts.dialogs', 'prompt_toolkit.shortcuts.progress_bar.formatters', 'prompt_toolkit.shortcuts.progress_bar.base', 'prompt_toolkit.shortcuts.progress_bar', 'prompt_toolkit.key_binding.bindings.auto_suggest', 'prompt_toolkit.key_binding.bindings.open_in_editor', 'prompt_toolkit.shortcuts.prompt', 'prompt_toolkit.shortcuts.utils', 'prompt_toolkit.shortcuts', 'prompt_toolkit', '_queue', 'queue', 'prompt_toolkit.patch_stdout', 'pygments.style', 'unicodedata', 'IPython.core.latex_symbols', 'IPython.utils.generics', 'parso.utils', 'parso.tree', 'parso.python', 'parso.python.token', 'parso.python.tokenize', 'parso.pgen2.grammar_parser', 'parso.pgen2.generator', 'parso.pgen2', 'parso.parser', 'parso._compatibility', 'difflib', 'parso.python.prefix', 'parso.python.tree', 'parso.python.parser', 'parso.python.diff', 'gc', 'parso.cache', 'parso.normalizer', 'parso.python.errors', 'parso.python.pep8', 'parso.file_io', 'parso.grammar', 'parso', 'jedi.file_io', 'jedi._compatibility', 'jedi.parser_utils', 'jedi.debug', 'jedi.settings', 'jedi.cache', 'jedi.inference.cache', 'jedi.common.value', 'jedi.common', 'jedi.inference.helpers', 'jedi.inference.utils', 'jedi.inference.base_value', 'jedi.common.utils', 'jedi.inference.sys_path', 'jedi.inference.recursion', 'jedi.inference.flow_analysis', 'jedi.inference.lazy_value', 'jedi.inference.docstrings', 'jedi.plugins', 'jedi.inference.names', 'jedi.inference.filters', 'jedi.inference.compiled.getattr_static', 'jedi.inference.compiled.access', 'jedi.inference.signature', 'jedi.inference.context', 'jedi.inference.compiled.value', 'jedi.inference.compiled', 'jedi.inference.analysis', 'jedi.inference.gradual', 'jedi.inference.value.module', 'jedi.inference.value.dynamic_arrays', 'jedi.inference.value.iterable', 'jedi.inference.arguments', 'jedi.inference.parser_cache', 'jedi.inference.gradual.generics', 'jedi.inference.value.function', 'jedi.inference.value.klass', 'jedi.inference.value.instance', 'jedi.inference.value', 'jedi.inference.gradual.base', 'jedi.inference.gradual.type_var', 'jedi.inference.gradual.typing', 'jedi.inference.gradual.stub_value', 'jedi.inference.gradual.typeshed', 'jedi.inference.imports', 'jedi.inference.param', 'jedi.inference.gradual.annotation', 'jedi.inference.value.decorator', 'jedi.inference.syntax_tree', 'jedi.inference', 'jedi.inference.gradual.conversion', 'pydoc_data', 'pydoc_data.topics', 'jedi.api.keywords', 'jedi.api.completion_cache', 'jedi.api.helpers', 'jedi.api.classes', 'jedi.inference.compiled.mixed', 'jedi.api.interpreter', 'jedi.api.strings', 'jedi.api.file_name', 'jedi.api.completion', 'filecmp', 'jedi.inference.compiled.subprocess.functions', 'jedi.api.exceptions', 'jedi.inference.compiled.subprocess', 'jedi.api.environment', 'jedi.inference.references', 'jedi.api.project', 'jedi.api.errors', 'jedi.api.refactoring', 'jedi.api.refactoring.extract', 'jedi.inference.gradual.utils', 'jedi.api', 'jedi.plugins.stdlib', 'jedi.plugins.flask', 'jedi.plugins.pytest', 'jedi.plugins.registry', 'jedi', 'IPython.core.completer', 'IPython.terminal.ptutils', 'IPython.terminal.shortcuts', 'IPython.terminal.debugger', 'IPython.lib.clipboard', 'IPython.terminal.magics', 'IPython.terminal.pt_inputhooks', 'IPython.terminal.prompts', 'IPython.terminal.interactiveshell', 'IPython.core.magics.auto', 'IPython.core.magics.basic', 'email', 'http', 'email.errors', 'email.quoprimime', 'email.base64mime', 'quopri', 'email.encoders', 'email.charset', 'email.header', 'calendar', 'email._parseaddr', 'email.utils', 'email._policybase', 'email.feedparser', 'email.parser', 'uu', 'email._encoded_words', 'email.iterators', 'email.message', 'http.client', 'urllib.response', 'urllib.error', 'urllib.request', 'IPython.core.magics.code', 'IPython.core.magics.config', 'IPython.core.magics.display', 'timeit', '_lsprof', 'profile', 'cProfile', 'pstats', 'IPython.utils.module_paths', 'IPython.utils.timing', 'IPython.core.magics.execution', 'IPython.core.magics.extension', 'IPython.core.magics.history', 'IPython.core.magics.logging', 'IPython.core.magics.namespace', 'IPython.core.magics.osm', 'IPython.core.magics.packaging', 'IPython.core.pylabtools', 'IPython.core.magics.pylab', 'IPython.lib.backgroundjobs', 'IPython.core.magics.script', 'IPython.core.magics', 'IPython.core.shellapp', 'IPython.extensions', 'IPython.extensions.storemagic', 'IPython.terminal.ipapp', 'IPython.terminal.embed', 'IPython.utils.frame', 'IPython', 'jupyter_client._version', '_ctypes', 'ctypes._endian', 'ctypes', 'zmq.backend.select', 'cython_runtime', 'zmq.backend.cython.constants', '_cython_0_29_21', 'zmq.backend.cython.error', 'zmq.error', 'zmq.backend.cython.message', 'zmq.backend.cython.context', 'zmq.backend.cython.socket', 'zmq.backend.cython.utils', 'zmq.backend.cython._poll', 'zmq.backend.cython._version', 'zmq.backend.cython._device', 'zmq.backend.cython._proxy_steerable', 'zmq.backend.cython', 'zmq.backend', 'zmq.utils', 'zmq.utils.constant_names', 'zmq.sugar.constants', 'zmq.sugar.attrsettr', 'zmq.sugar.poll', 'zmq.utils.strtypes', 'zmq.utils.jsonapi', 'zmq.sugar.socket', 'zmq.sugar.context', 'zmq.sugar.frame', 'zmq.sugar.tracker', 'zmq.sugar.version', 'zmq.sugar.stopwatch', 'zmq.sugar', 'zmq', 'jupyter_client.localinterfaces', 'jupyter_core.version', 'jupyter_core', 'jupyter_core.paths', 'jupyter_client.utils', 'jupyter_client.connect', 'traitlets.log', 'jupyter_client.launcher', 'jupyter_client.channelsabc', 'jupyter_client.channels', 'jupyter_client.clientabc', 'jupyter_client.client', 'jupyter_client.kernelspec', 'jupyter_client.managerabc', 'jupyter_client.manager', 'jupyter_client.blocking.channels', 'jupyter_client.blocking.client', 'jupyter_client.blocking', 'zmq._future', 'zmq.asyncio', 'jupyter_client.asynchronous.channels', 'jupyter_client.asynchronous.client', 'jupyter_client.asynchronous', 'uuid', 'jupyter_client.multikernelmanager', 'jupyter_client', 'ipykernel.connect', 'ipykernel', 'tornado', 'numbers', 'logging.handlers', 'tornado.speedups', 'tornado.util', 'tornado.escape', '_curses', 'curses', 'tornado.log', 'tornado.concurrent', 'tornado.ioloop', 'tornado.platform', 'tornado.gen', 'tornado.platform.asyncio', 'zmq.eventloop.ioloop', 'zmq.eventloop', 'zmq.eventloop.zmqstream', 'ipython_genutils.importstring', 'imp', 'hmac', 'dateutil._version', 'dateutil', 'six', '_decimal', 'decimal', 'dateutil._common', 'dateutil.relativedelta', 'six.moves', 'dateutil.tz._common', 'dateutil.tz._factories', 'dateutil.tz.tz', 'dateutil.tz', 'dateutil.parser._parser', 'dateutil.parser.isoparser', 'dateutil.parser', '_strptime', 'jupyter_client.jsonutil', 'jupyter_client.adapter', 'jupyter_client.session', 'ipykernel.iostream', 'ipykernel.heartbeat', 'IPython.utils.tokenutil', 'tornado.locks', 'tornado.queues', 'ipykernel.jsonutil', 'ipykernel.kernelbase', 'ipykernel.comm.comm', 'ipykernel.comm.manager', 'ipykernel.comm', 'IPython.core.payloadpage', 'ipykernel.displayhook', 'ipykernel.zmqshell', 'distutils', 'distutils.version', 'ipykernel.eventloops', 'ipykernel.ipkernel', 'ipykernel.parentpoller', 'ipykernel.kernelapp', 'faulthandler', 'ipykernel.codeutil', 'ipykernel.pickleutil', 'ipykernel.serialize', 'ipykernel.datapub', 'IPython.core.completerlib', 'storemagic', 'numpy._globals', 'numpy.__config__', 'numpy.version', 'numpy._distributor_init', 'numpy.core._multiarray_umath', 'numpy.compat._inspect', 'numpy.compat.py3k', 'numpy.compat', 'numpy.core.overrides', 'numpy.core.multiarray', 'numpy.core.umath', 'numpy.core._string_helpers', 'numpy.core._dtype', 'numpy.core._type_aliases', 'numpy.core.numerictypes', 'numpy.core._asarray', 'numpy.core._exceptions', 'numpy.core._methods', 'numpy.core.fromnumeric', 'numpy.core.shape_base', 'numpy.core._ufunc_config', 'numpy.core.arrayprint', 'numpy.core.numeric', 'numpy.core.defchararray', 'numpy.core.records', 'numpy.core.memmap', 'numpy.core.function_base', 'numpy.core.machar', 'numpy.core.getlimits', 'numpy.core.einsumfunc', 'numpy.core._multiarray_tests', 'numpy.core._add_newdocs', 'numpy.core._dtype_ctypes', 'numpy.core._internal', 'numpy._pytesttester', 'numpy.core', 'numpy.lib.mixins', 'numpy.lib.ufunclike', 'numpy.lib.type_check', 'numpy.lib.scimath', 'numpy.lib.twodim_base', 'numpy.linalg.lapack_lite', 'numpy.linalg._umath_linalg', 'numpy.linalg.linalg', 'numpy.linalg', 'numpy.matrixlib.defmatrix', 'numpy.matrixlib', 'numpy.lib.histograms', 'numpy.lib.function_base', 'numpy.lib.stride_tricks', 'numpy.lib.index_tricks', 'numpy.lib.nanfunctions', 'numpy.lib.shape_base', 'numpy.lib.polynomial', 'numpy.lib.utils', 'numpy.lib.arraysetops', 'numpy.lib.format', 'numpy.lib._datasource', 'numpy.lib._iotools', 'numpy.lib.npyio', 'numpy.lib.financial', 'numpy.lib.arrayterator', 'numpy.lib.arraypad', 'numpy.lib._version', 'numpy.lib', 'numpy.fft._pocketfft_internal', 'numpy.fft._pocketfft', 'numpy.fft.helper', 'numpy.fft', 'numpy.polynomial.polyutils', 'numpy.polynomial._polybase', 'numpy.polynomial.polynomial', 'numpy.polynomial.chebyshev', 'numpy.polynomial.legendre', 'numpy.polynomial.hermite', 'numpy.polynomial.hermite_e', 'numpy.polynomial.laguerre', 'numpy.polynomial', 'numpy.random._common', 'secrets', 'numpy.random.bit_generator', 'numpy.random._bounded_integers', 'numpy.random._mt19937', 'numpy.random.mtrand', 'numpy.random._philox', 'numpy.random._pcg64', 'numpy.random._sfc64', 'numpy.random._generator', 'numpy.random._pickle', 'numpy.random', 'numpy.ctypeslib', 'numpy.ma.core', 'numpy.ma.extras', 'numpy.ma', 'numpy', 'dm_env.specs', 'dm_env._environment', 'dm_env._metadata', 'dm_env', 'acme.specs', 'acme.types', 'acme._metadata', 'acme.utils', 'acme.utils.metrics', 'acme.core', 'acme.utils.counting', 'wrapt._wrappers', 'wrapt.wrappers', 'wrapt.decorators', 'wrapt.importer', 'wrapt', 'tree._tree', 'tree', 'acme.utils.loggers.base', 'acme.utils.loggers.aggregators', 'absl', '_csv', 'csv', 'absl.flags._helpers', 'absl.flags._argument_parser', 'absl.flags._exceptions', 'absl._collections_abc', 'absl.flags._flag', 'absl.flags._flagvalues', 'absl.flags._validators', 'absl.flags._defines', 'absl.flags', 'absl.logging.converter', 'absl.logging', 'acme.utils.async_utils', 'acme.utils.loggers.asynchronous', 'acme.utils.loggers.constant', 'ctypes.util', 'acme.utils.paths', 'acme.utils.loggers.csv', 'acme.utils.loggers.dataframe', 'acme.utils.loggers.filters', 'acme.utils.loggers.terminal', 'acme.utils.loggers.default', 'acme.utils.loggers', 'acme.environment_loop', 'acme', 'acme.wrappers', 'acme.wrappers.base', 'acme.wrappers.action_repeat', 'acme.wrappers.frame_stacking', 'PIL._version', 'PIL', 'xml.etree', 'xml.etree.ElementPath', 'pyexpat.errors', 'pyexpat.model', 'pyexpat', '_elementtree', 'xml.etree.ElementTree', 'PIL.ImageMode', 'PIL.TiffTags', 'PIL._binary', 'PIL._util', 'PIL._imaging', 'PIL.Image', 'acme.wrappers.atari_wrapper', 'acme.wrappers.canonical_spec', 'gym.error', 'gym.version', 'gym.utils.colorize', 'gym.utils.ezpickle', 'gym.utils', 'gym.utils.closer', 'gym.core', 'gym.utils.seeding', 'gym.spaces.space', 'gym.logger', 'gym.spaces.box', 'gym.spaces.discrete', 'gym.spaces.multi_discrete', 'gym.spaces.multi_binary', 'gym.spaces.tuple', 'gym.spaces.dict', 'gym.spaces.utils', 'gym.spaces', 'gym.envs.registration', 'gym.envs', 'multiprocessing.process', 'multiprocessing.reduction', 'multiprocessing.context', '__mp_main__', 'multiprocessing', 'gym.vector.utils.misc', 'gym.vector.utils.spaces', 'gym.vector.utils.numpy_utils', 'gym.vector.utils.shared_memory', 'gym.vector.utils', 'gym.vector.vector_env', 'gym.vector.async_vector_env', 'gym.vector.sync_vector_env', 'gym.vector', 'gym.wrappers.monitoring', 'gym.utils.atomic_write', 'gym.utils.json_utils', 'gym.wrappers.monitoring.stats_recorder', 'distutils.errors', 'distutils.debug', 'distutils.log', 'distutils.spawn', 'gym.wrappers.monitoring.video_recorder', 'gym.wrappers.monitor', 'gym.wrappers.time_limit', 'gym.wrappers.filter_observation', 'cv2.Error', 'cv2.cuda', 'cv2.detail', 'cv2.dnn', 'cv2.fisheye', 'cv2.flann', 'cv2.gapi', 'cv2.gapi.core', 'cv2.gapi.core.cpu', 'cv2.gapi.core.fluid', 'cv2.gapi.core.ocl', 'cv2.gapi.ie', 'cv2.gapi.ie.detail', 'cv2.gapi.onnx', 'cv2.gapi.own', 'cv2.gapi.own.detail', 'cv2.gapi.streaming', 'cv2.gapi.video', 'cv2.gapi.wip', 'cv2.ipp', 'cv2.ml', 'cv2.ocl', 'cv2.ogl', 'cv2.parallel', 'cv2.samples', 'cv2.segmentation', 'cv2.utils', 'cv2.utils.fs', 'cv2.videoio_registry', 'cv2.cv2', 'cv2.data', 'cv2.version', 'cv2', 'gym.wrappers.atari_preprocessing', 'gym.wrappers.time_aware_observation', 'gym.wrappers.rescale_action', 'gym.wrappers.flatten_observation', 'gym.wrappers.gray_scale_observation', 'gym.wrappers.frame_stack', 'gym.wrappers.transform_observation', 'gym.wrappers.transform_reward', 'gym.wrappers.resize_observation', 'gym.wrappers.clip_action', 'gym.wrappers.record_episode_statistics', 'gym.wrappers', 'gym', 'acme.wrappers.gym_wrapper', 'acme.wrappers.observation_action_reward', 'acme.wrappers.single_precision', 'acme.wrappers.step_limit', 'acme.wrappers.video', 'matplotlib', 'matplotlib._api.deprecation', 'matplotlib._api', 'gzip', 'matplotlib._c_internal_utils', 'matplotlib.cbook', 'matplotlib.docstring', 'matplotlib._animation_data', 'matplotlib.animation', 'PIL.ImageChops', 'PIL.ImageFile', 'PIL.GimpGradientFile', 'PIL.GimpPaletteFile', 'PIL.ImageColor', 'PIL.PaletteFile', 'PIL.ImagePalette', 'PIL.ImageSequence', 'PIL.PngImagePlugin', 'matplotlib._path', 'matplotlib.bezier', 'matplotlib.path', 'matplotlib.transforms', 'matplotlib.ticker', 'matplotlib.scale', 'matplotlib._color_data', 'matplotlib.colors', 'pyparsing', 'matplotlib.fontconfig_pattern', 'matplotlib._enums', 'cycler', 'matplotlib.rcsetup', 'matplotlib._version', 'matplotlib.ft2font', 'kiwisolver', 'dateutil.rrule', 'matplotlib.units', 'matplotlib.dates']\n",
      "DEBUG:matplotlib:CACHEDIR=/home/hayato/.cache/matplotlib\n",
      "DEBUG:matplotlib.font_manager:Using fontManager instance from /home/hayato/.cache/matplotlib/fontlist-v330.json\n",
      "DEBUG:matplotlib.pyplot:Loaded backend agg version unknown.\n",
      "DEBUG:tensorflow:Falling back to TensorFlow client; we recommended you install the Cloud TPU client directly with pip install cloud-tpu-client.\n",
      "DEBUG:h5py._conv:Creating converter from 7 to 5\n",
      "DEBUG:h5py._conv:Creating converter from 5 to 7\n",
      "DEBUG:h5py._conv:Creating converter from 7 to 5\n",
      "DEBUG:h5py._conv:Creating converter from 5 to 7\n",
      "DEBUG:easyprocess:version=0.3\n",
      "DEBUG:pyvirtualdisplay:version=2.2\n",
      "DEBUG:easyprocess:command: ['Xvfb', '-help']\n",
      "DEBUG:easyprocess:process was started (pid=21330)\n",
      "DEBUG:easyprocess:process has ended, return code=0\n",
      "DEBUG:pyvirtualdisplay.abstractdisplay:command: ['Xvfb', '-br', '-nolisten', 'tcp', '-screen', '0', '1400x900x24', '-displayfd', '44']\n",
      "DEBUG:pyvirtualdisplay.abstractdisplay:set $DISPLAY=:2\n"
     ]
    }
   ],
   "source": [
    "import IPython\n",
    "\n",
    "from acme import environment_loop\n",
    "from acme import specs\n",
    "from acme import wrappers\n",
    "from acme.agents.tf import d4pg\n",
    "from acme.tf import networks\n",
    "from acme.tf import utils as tf2_utils\n",
    "from acme.utils import loggers\n",
    "import numpy as np\n",
    "import sonnet as snt\n",
    "\n",
    "from absl import app\n",
    "from absl import flags\n",
    "import acme\n",
    "from acme.agents.tf import dqn\n",
    "from acme.tf import networks\n",
    "\n",
    "# Import the selected environment lib\n",
    "if environment_library == 'dm_control':\n",
    "  from dm_control import suite\n",
    "elif environment_library == 'gym':\n",
    "  import gym\n",
    "\n",
    "# Imports required for visualization\n",
    "import pyvirtualdisplay\n",
    "import imageio\n",
    "import base64\n",
    "\n",
    "# Set up a virtual display for rendering.\n",
    "display = pyvirtualdisplay.Display(visible=0, size=(1400, 900)).start()"
   ]
  },
  {
   "cell_type": "code",
   "execution_count": 5,
   "metadata": {},
   "outputs": [],
   "source": [
    "# helper functions\n",
    "import functools\n",
    "\n",
    "from acme import wrappers\n",
    "import dm_env\n",
    "import gym\n",
    "\n",
    "def make_environment(level: str, evaluation: bool = False) -> dm_env.Environment:\n",
    "  env = gym.make(level, full_action_space=True)\n",
    "\n",
    "  max_episode_len = 108_000 if evaluation else 50_000\n",
    "\n",
    "  return wrappers.wrap_all(env, [\n",
    "      wrappers.GymAtariAdapter,\n",
    "      functools.partial(\n",
    "          wrappers.AtariWrapper,\n",
    "          to_float=True,\n",
    "          max_episode_len=max_episode_len,\n",
    "          zero_discount_on_life_loss=True,\n",
    "      ),\n",
    "      wrappers.SinglePrecisionWrapper,\n",
    "  ])"
   ]
  },
  {
   "cell_type": "code",
   "execution_count": 6,
   "metadata": {},
   "outputs": [],
   "source": [
    "# Create a simple helper function to render a frame from the current state of\n",
    "# the environment.\n",
    "def render(env):\n",
    "    return env.environment.render(mode='rgb_array')\n",
    "\n",
    "def display_video(frames, filename='temp.mp4'):\n",
    "  \"\"\"Save and display video.\"\"\"\n",
    "\n",
    "  # Write video\n",
    "  with imageio.get_writer(filename, fps=60) as video:\n",
    "    for frame in frames:\n",
    "      video.append_data(frame)\n",
    "\n",
    "  # Read video and display the video\n",
    "  video = open(filename, 'rb').read()\n",
    "  b64_video = base64.b64encode(video)\n",
    "  video_tag = ('<video  width=\"320\" height=\"240\" controls alt=\"test\" '\n",
    "               'src=\"data:video/mp4;base64,{0}\">').format(b64_video.decode())\n",
    "\n",
    "  return IPython.display.HTML(video_tag)"
   ]
  },
  {
   "cell_type": "code",
   "execution_count": 7,
   "metadata": {},
   "outputs": [
    {
     "output_type": "stream",
     "name": "stderr",
     "text": [
      "INFO:absl:Attempting to restore checkpoint: None\n"
     ]
    }
   ],
   "source": [
    "environment = make_environment('BreakoutNoFrameskip-v4')\n",
    "environment_spec = acme.make_environment_spec(environment)\n",
    "network = networks.DQNAtariNetwork(environment_spec.actions.num_values)\n",
    "\n",
    "# Create a logger for the agent and environment loop.\n",
    "# agent_logger = loggers.TerminalLogger(label='agent')\n",
    "env_loop_logger = loggers.TerminalLogger(label='env_loop')\n",
    "\n",
    "# agent = dqn.DQN(environment_spec, network, logger=agent_logger)\n",
    "agent = dqn.DQN(environment_spec, network)\n",
    "\n",
    "# Create an loop connecting this agent to the environment created above.\n",
    "env_loop = acme.EnvironmentLoop(\n",
    "    environment, agent, logger=env_loop_logger)\n",
    "# env_loop = acme.EnvironmentLoop(environment, agent)\n",
    "\n",
    "# Run a `num_episodes` training episodes.\n",
    "# Rerun this cell until the agent has learned the given task.\n",
    "# env_loop.run(num_episodes=1000)"
   ]
  },
  {
   "cell_type": "code",
   "execution_count": null,
   "metadata": {},
   "outputs": [],
   "source": [
    "from acme.tf import savers as tf2_savers\n",
    "from acme.tf import utils as tf2_utils\n",
    "ckpt = tf2_savers.Checkpointer(\n",
    "          directory=checkpoint_subpath,\n",
    "          objects_to_save=learner.state,\n",
    "          subdirectory='dqn_learner',\n",
    "          time_delta_minutes=60.)"
   ]
  },
  {
   "cell_type": "code",
   "execution_count": 11,
   "metadata": {},
   "outputs": [],
   "source": [
    "import tensorflow as tf"
   ]
  },
  {
   "cell_type": "code",
   "execution_count": 12,
   "metadata": {},
   "outputs": [],
   "source": [
    "manager = tf.train.CheckpointManager(checkpoint=agent._checkpointer, directory='/home/hayato/acme/b8ca9590-d77d-11eb-b169-332db766104b/checkpoints/dqn_learner', max_to_keep=3)"
   ]
  },
  {
   "cell_type": "code",
   "execution_count": 13,
   "metadata": {},
   "outputs": [],
   "source": [
    "agent._checkpointer._checkpoint_manager = manager"
   ]
  },
  {
   "cell_type": "code",
   "execution_count": 14,
   "metadata": {},
   "outputs": [
    {
     "output_type": "execute_result",
     "data": {
      "text/plain": [
       "'/home/hayato/acme/b8ca9590-d77d-11eb-b169-332db766104b/checkpoints/dqn_learner/ckpt-10'"
      ]
     },
     "metadata": {},
     "execution_count": 14
    }
   ],
   "source": [
    "agent._checkpointer._checkpoint_manager.latest_checkpoint"
   ]
  },
  {
   "cell_type": "code",
   "execution_count": 16,
   "metadata": {},
   "outputs": [],
   "source": [
    "agent._checkpointer.restore()"
   ]
  },
  {
   "cell_type": "code",
   "execution_count": 17,
   "metadata": {},
   "outputs": [
    {
     "output_type": "error",
     "ename": "ValueError",
     "evalue": "Field ('n_step_return',) has already been set in the active step by previous (partial) append call and thus must be omitted or set to None but got: [[[0. 0. 0. 0.]\n  [0. 0. 0. 0.]\n  [0. 0. 0. 0.]\n  ...\n  [0. 0. 0. 0.]\n  [0. 0. 0. 0.]\n  [0. 0. 0. 0.]]\n\n [[0. 0. 0. 0.]\n  [0. 0. 0. 0.]\n  [0. 0. 0. 0.]\n  ...\n  [0. 0. 0. 0.]\n  [0. 0. 0. 0.]\n  [0. 0. 0. 0.]]\n\n [[0. 0. 0. 0.]\n  [0. 0. 0. 0.]\n  [0. 0. 0. 0.]\n  ...\n  [0. 0. 0. 0.]\n  [0. 0. 0. 0.]\n  [0. 0. 0. 0.]]\n\n ...\n\n [[0. 0. 0. 0.]\n  [0. 0. 0. 0.]\n  [0. 0. 0. 0.]\n  ...\n  [0. 0. 0. 0.]\n  [0. 0. 0. 0.]\n  [0. 0. 0. 0.]]\n\n [[0. 0. 0. 0.]\n  [0. 0. 0. 0.]\n  [0. 0. 0. 0.]\n  ...\n  [0. 0. 0. 0.]\n  [0. 0. 0. 0.]\n  [0. 0. 0. 0.]]\n\n [[0. 0. 0. 0.]\n  [0. 0. 0. 0.]\n  [0. 0. 0. 0.]\n  ...\n  [0. 0. 0. 0.]\n  [0. 0. 0. 0.]\n  [0. 0. 0. 0.]]]",
     "traceback": [
      "\u001b[0;31m---------------------------------------------------------------------------\u001b[0m",
      "\u001b[0;31mValueError\u001b[0m                                Traceback (most recent call last)",
      "\u001b[0;32m<ipython-input-17-057650d2ff05>\u001b[0m in \u001b[0;36m<module>\u001b[0;34m\u001b[0m\n\u001b[1;32m      1\u001b[0m \u001b[0;31m# Run a `num_episodes` training episodes.\u001b[0m\u001b[0;34m\u001b[0m\u001b[0;34m\u001b[0m\u001b[0;34m\u001b[0m\u001b[0m\n\u001b[1;32m      2\u001b[0m \u001b[0;31m# Rerun this cell until the agent has learned the given task.\u001b[0m\u001b[0;34m\u001b[0m\u001b[0;34m\u001b[0m\u001b[0;34m\u001b[0m\u001b[0m\n\u001b[0;32m----> 3\u001b[0;31m \u001b[0menv_loop\u001b[0m\u001b[0;34m.\u001b[0m\u001b[0mrun\u001b[0m\u001b[0;34m(\u001b[0m\u001b[0mnum_episodes\u001b[0m\u001b[0;34m=\u001b[0m\u001b[0;36m500\u001b[0m\u001b[0;34m)\u001b[0m\u001b[0;34m\u001b[0m\u001b[0;34m\u001b[0m\u001b[0m\n\u001b[0m",
      "\u001b[0;32m~/anaconda3/envs/acme/lib/python3.8/site-packages/acme/environment_loop.py\u001b[0m in \u001b[0;36mrun\u001b[0;34m(self, num_episodes, num_steps)\u001b[0m\n\u001b[1;32m    157\u001b[0m     \u001b[0mepisode_count\u001b[0m\u001b[0;34m,\u001b[0m \u001b[0mstep_count\u001b[0m \u001b[0;34m=\u001b[0m \u001b[0;36m0\u001b[0m\u001b[0;34m,\u001b[0m \u001b[0;36m0\u001b[0m\u001b[0;34m\u001b[0m\u001b[0;34m\u001b[0m\u001b[0m\n\u001b[1;32m    158\u001b[0m     \u001b[0;32mwhile\u001b[0m \u001b[0;32mnot\u001b[0m \u001b[0mshould_terminate\u001b[0m\u001b[0;34m(\u001b[0m\u001b[0mepisode_count\u001b[0m\u001b[0;34m,\u001b[0m \u001b[0mstep_count\u001b[0m\u001b[0;34m)\u001b[0m\u001b[0;34m:\u001b[0m\u001b[0;34m\u001b[0m\u001b[0;34m\u001b[0m\u001b[0m\n\u001b[0;32m--> 159\u001b[0;31m       \u001b[0mresult\u001b[0m \u001b[0;34m=\u001b[0m \u001b[0mself\u001b[0m\u001b[0;34m.\u001b[0m\u001b[0mrun_episode\u001b[0m\u001b[0;34m(\u001b[0m\u001b[0;34m)\u001b[0m\u001b[0;34m\u001b[0m\u001b[0;34m\u001b[0m\u001b[0m\n\u001b[0m\u001b[1;32m    160\u001b[0m       \u001b[0mepisode_count\u001b[0m \u001b[0;34m+=\u001b[0m \u001b[0;36m1\u001b[0m\u001b[0;34m\u001b[0m\u001b[0;34m\u001b[0m\u001b[0m\n\u001b[1;32m    161\u001b[0m       \u001b[0mstep_count\u001b[0m \u001b[0;34m+=\u001b[0m \u001b[0mresult\u001b[0m\u001b[0;34m[\u001b[0m\u001b[0;34m'episode_length'\u001b[0m\u001b[0;34m]\u001b[0m\u001b[0;34m\u001b[0m\u001b[0;34m\u001b[0m\u001b[0m\n",
      "\u001b[0;32m~/anaconda3/envs/acme/lib/python3.8/site-packages/acme/environment_loop.py\u001b[0m in \u001b[0;36mrun_episode\u001b[0;34m(self)\u001b[0m\n\u001b[1;32m     88\u001b[0m \u001b[0;34m\u001b[0m\u001b[0m\n\u001b[1;32m     89\u001b[0m     \u001b[0;31m# Make the first observation.\u001b[0m\u001b[0;34m\u001b[0m\u001b[0;34m\u001b[0m\u001b[0;34m\u001b[0m\u001b[0m\n\u001b[0;32m---> 90\u001b[0;31m     \u001b[0mself\u001b[0m\u001b[0;34m.\u001b[0m\u001b[0m_actor\u001b[0m\u001b[0;34m.\u001b[0m\u001b[0mobserve_first\u001b[0m\u001b[0;34m(\u001b[0m\u001b[0mtimestep\u001b[0m\u001b[0;34m)\u001b[0m\u001b[0;34m\u001b[0m\u001b[0;34m\u001b[0m\u001b[0m\n\u001b[0m\u001b[1;32m     91\u001b[0m \u001b[0;34m\u001b[0m\u001b[0m\n\u001b[1;32m     92\u001b[0m     \u001b[0;31m# Run an episode.\u001b[0m\u001b[0;34m\u001b[0m\u001b[0;34m\u001b[0m\u001b[0;34m\u001b[0m\u001b[0m\n",
      "\u001b[0;32m~/anaconda3/envs/acme/lib/python3.8/site-packages/acme/agents/agent.py\u001b[0m in \u001b[0;36mobserve_first\u001b[0;34m(self, timestep)\u001b[0m\n\u001b[1;32m     71\u001b[0m \u001b[0;34m\u001b[0m\u001b[0m\n\u001b[1;32m     72\u001b[0m   \u001b[0;32mdef\u001b[0m \u001b[0mobserve_first\u001b[0m\u001b[0;34m(\u001b[0m\u001b[0mself\u001b[0m\u001b[0;34m,\u001b[0m \u001b[0mtimestep\u001b[0m\u001b[0;34m:\u001b[0m \u001b[0mdm_env\u001b[0m\u001b[0;34m.\u001b[0m\u001b[0mTimeStep\u001b[0m\u001b[0;34m)\u001b[0m\u001b[0;34m:\u001b[0m\u001b[0;34m\u001b[0m\u001b[0;34m\u001b[0m\u001b[0m\n\u001b[0;32m---> 73\u001b[0;31m     \u001b[0mself\u001b[0m\u001b[0;34m.\u001b[0m\u001b[0m_actor\u001b[0m\u001b[0;34m.\u001b[0m\u001b[0mobserve_first\u001b[0m\u001b[0;34m(\u001b[0m\u001b[0mtimestep\u001b[0m\u001b[0;34m)\u001b[0m\u001b[0;34m\u001b[0m\u001b[0;34m\u001b[0m\u001b[0m\n\u001b[0m\u001b[1;32m     74\u001b[0m \u001b[0;34m\u001b[0m\u001b[0m\n\u001b[1;32m     75\u001b[0m   \u001b[0;32mdef\u001b[0m \u001b[0mobserve\u001b[0m\u001b[0;34m(\u001b[0m\u001b[0mself\u001b[0m\u001b[0;34m,\u001b[0m \u001b[0maction\u001b[0m\u001b[0;34m:\u001b[0m \u001b[0mtypes\u001b[0m\u001b[0;34m.\u001b[0m\u001b[0mNestedArray\u001b[0m\u001b[0;34m,\u001b[0m \u001b[0mnext_timestep\u001b[0m\u001b[0;34m:\u001b[0m \u001b[0mdm_env\u001b[0m\u001b[0;34m.\u001b[0m\u001b[0mTimeStep\u001b[0m\u001b[0;34m)\u001b[0m\u001b[0;34m:\u001b[0m\u001b[0;34m\u001b[0m\u001b[0;34m\u001b[0m\u001b[0m\n",
      "\u001b[0;32m~/anaconda3/envs/acme/lib/python3.8/site-packages/acme/agents/tf/actors.py\u001b[0m in \u001b[0;36mobserve_first\u001b[0;34m(self, timestep)\u001b[0m\n\u001b[1;32m     84\u001b[0m   \u001b[0;32mdef\u001b[0m \u001b[0mobserve_first\u001b[0m\u001b[0;34m(\u001b[0m\u001b[0mself\u001b[0m\u001b[0;34m,\u001b[0m \u001b[0mtimestep\u001b[0m\u001b[0;34m:\u001b[0m \u001b[0mdm_env\u001b[0m\u001b[0;34m.\u001b[0m\u001b[0mTimeStep\u001b[0m\u001b[0;34m)\u001b[0m\u001b[0;34m:\u001b[0m\u001b[0;34m\u001b[0m\u001b[0;34m\u001b[0m\u001b[0m\n\u001b[1;32m     85\u001b[0m     \u001b[0;32mif\u001b[0m \u001b[0mself\u001b[0m\u001b[0;34m.\u001b[0m\u001b[0m_adder\u001b[0m\u001b[0;34m:\u001b[0m\u001b[0;34m\u001b[0m\u001b[0;34m\u001b[0m\u001b[0m\n\u001b[0;32m---> 86\u001b[0;31m       \u001b[0mself\u001b[0m\u001b[0;34m.\u001b[0m\u001b[0m_adder\u001b[0m\u001b[0;34m.\u001b[0m\u001b[0madd_first\u001b[0m\u001b[0;34m(\u001b[0m\u001b[0mtimestep\u001b[0m\u001b[0;34m)\u001b[0m\u001b[0;34m\u001b[0m\u001b[0;34m\u001b[0m\u001b[0m\n\u001b[0m\u001b[1;32m     87\u001b[0m \u001b[0;34m\u001b[0m\u001b[0m\n\u001b[1;32m     88\u001b[0m   \u001b[0;32mdef\u001b[0m \u001b[0mobserve\u001b[0m\u001b[0;34m(\u001b[0m\u001b[0mself\u001b[0m\u001b[0;34m,\u001b[0m \u001b[0maction\u001b[0m\u001b[0;34m:\u001b[0m \u001b[0mtypes\u001b[0m\u001b[0;34m.\u001b[0m\u001b[0mNestedArray\u001b[0m\u001b[0;34m,\u001b[0m \u001b[0mnext_timestep\u001b[0m\u001b[0;34m:\u001b[0m \u001b[0mdm_env\u001b[0m\u001b[0;34m.\u001b[0m\u001b[0mTimeStep\u001b[0m\u001b[0;34m)\u001b[0m\u001b[0;34m:\u001b[0m\u001b[0;34m\u001b[0m\u001b[0;34m\u001b[0m\u001b[0m\n",
      "\u001b[0;32m~/anaconda3/envs/acme/lib/python3.8/site-packages/acme/adders/reverb/base.py\u001b[0m in \u001b[0;36madd_first\u001b[0;34m(self, timestep)\u001b[0m\n\u001b[1;32m    152\u001b[0m     \u001b[0;31m# Record the next observation but leave the history buffer row open by\u001b[0m\u001b[0;34m\u001b[0m\u001b[0;34m\u001b[0m\u001b[0;34m\u001b[0m\u001b[0m\n\u001b[1;32m    153\u001b[0m     \u001b[0;31m# passing `partial_step=True`.\u001b[0m\u001b[0;34m\u001b[0m\u001b[0;34m\u001b[0m\u001b[0;34m\u001b[0m\u001b[0m\n\u001b[0;32m--> 154\u001b[0;31m     self._writer.append(dict(observation=timestep.observation,\n\u001b[0m\u001b[1;32m    155\u001b[0m                              start_of_episode=timestep.first()),\n\u001b[1;32m    156\u001b[0m                         partial_step=True)\n",
      "\u001b[0;32m~/anaconda3/envs/acme/lib/python3.8/site-packages/reverb/trajectory_writer.py\u001b[0m in \u001b[0;36mappend\u001b[0;34m(self, data, partial_step)\u001b[0m\n\u001b[1;32m    294\u001b[0m           \u001b[0;32mcontinue\u001b[0m\u001b[0;34m\u001b[0m\u001b[0;34m\u001b[0m\u001b[0m\n\u001b[1;32m    295\u001b[0m \u001b[0;34m\u001b[0m\u001b[0m\n\u001b[0;32m--> 296\u001b[0;31m         raise ValueError(\n\u001b[0m\u001b[1;32m    297\u001b[0m             \u001b[0;34mf'Field {self._get_path_for_column_index(i)} has already been set '\u001b[0m\u001b[0;34m\u001b[0m\u001b[0;34m\u001b[0m\u001b[0m\n\u001b[1;32m    298\u001b[0m             \u001b[0;34mf'in the active step by previous (partial) append call and thus '\u001b[0m\u001b[0;34m\u001b[0m\u001b[0;34m\u001b[0m\u001b[0m\n",
      "\u001b[0;31mValueError\u001b[0m: Field ('n_step_return',) has already been set in the active step by previous (partial) append call and thus must be omitted or set to None but got: [[[0. 0. 0. 0.]\n  [0. 0. 0. 0.]\n  [0. 0. 0. 0.]\n  ...\n  [0. 0. 0. 0.]\n  [0. 0. 0. 0.]\n  [0. 0. 0. 0.]]\n\n [[0. 0. 0. 0.]\n  [0. 0. 0. 0.]\n  [0. 0. 0. 0.]\n  ...\n  [0. 0. 0. 0.]\n  [0. 0. 0. 0.]\n  [0. 0. 0. 0.]]\n\n [[0. 0. 0. 0.]\n  [0. 0. 0. 0.]\n  [0. 0. 0. 0.]\n  ...\n  [0. 0. 0. 0.]\n  [0. 0. 0. 0.]\n  [0. 0. 0. 0.]]\n\n ...\n\n [[0. 0. 0. 0.]\n  [0. 0. 0. 0.]\n  [0. 0. 0. 0.]\n  ...\n  [0. 0. 0. 0.]\n  [0. 0. 0. 0.]\n  [0. 0. 0. 0.]]\n\n [[0. 0. 0. 0.]\n  [0. 0. 0. 0.]\n  [0. 0. 0. 0.]\n  ...\n  [0. 0. 0. 0.]\n  [0. 0. 0. 0.]\n  [0. 0. 0. 0.]]\n\n [[0. 0. 0. 0.]\n  [0. 0. 0. 0.]\n  [0. 0. 0. 0.]\n  ...\n  [0. 0. 0. 0.]\n  [0. 0. 0. 0.]\n  [0. 0. 0. 0.]]]"
     ]
    }
   ],
   "source": [
    "# Run a `num_episodes` training episodes.\n",
    "# Rerun this cell until the agent has learned the given task.\n",
    "env_loop.run(num_episodes=500)"
   ]
  },
  {
   "cell_type": "code",
   "execution_count": 26,
   "metadata": {},
   "outputs": [
    {
     "output_type": "stream",
     "name": "stderr",
     "text": [
      "WARNING:imageio_ffmpeg:IMAGEIO FFMPEG_WRITER WARNING: input image is not divisible by macro_block_size=16, resizing from (160, 210) to (160, 224) to ensure video compatibility with most codecs and players. To prevent resizing, make your input image divisible by the macro_block_size or set the macro_block_size to 1 (risking incompatibility).\n"
     ]
    },
    {
     "output_type": "execute_result",
     "data": {
      "text/plain": [
       "<IPython.core.display.HTML object>"
      ],
      "text/html": "<video  width=\"320\" height=\"240\" controls alt=\"test\" src=\"data:video/mp4;base64,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\">"
     },
     "metadata": {},
     "execution_count": 26
    }
   ],
   "source": [
    "timestep = environment.reset()\n",
    "frames = [render(environment)]\n",
    "\n",
    "while not timestep.last():\n",
    "  # Simple environment loop.\n",
    "  action = agent.select_action(timestep.observation)\n",
    "  timestep = environment.step(action)\n",
    "\n",
    "  # Render the scene and add it to the frame stack.\n",
    "  frames.append(render(environment))\n",
    "\n",
    "# Save and display a video of the behaviour.\n",
    "display_video(np.array(frames))"
   ]
  },
  {
   "cell_type": "code",
   "execution_count": null,
   "metadata": {},
   "outputs": [],
   "source": []
  },
  {
   "cell_type": "code",
   "execution_count": null,
   "metadata": {},
   "outputs": [],
   "source": []
  },
  {
   "cell_type": "code",
   "execution_count": null,
   "metadata": {},
   "outputs": [],
   "source": []
  },
  {
   "cell_type": "code",
   "execution_count": null,
   "metadata": {},
   "outputs": [],
   "source": []
  },
  {
   "cell_type": "code",
   "execution_count": null,
   "metadata": {},
   "outputs": [],
   "source": []
  },
  {
   "cell_type": "code",
   "execution_count": null,
   "metadata": {},
   "outputs": [],
   "source": []
  },
  {
   "cell_type": "code",
   "execution_count": null,
   "metadata": {},
   "outputs": [],
   "source": []
  },
  {
   "cell_type": "code",
   "execution_count": null,
   "metadata": {},
   "outputs": [],
   "source": []
  },
  {
   "cell_type": "code",
   "execution_count": null,
   "metadata": {},
   "outputs": [],
   "source": []
  },
  {
   "cell_type": "code",
   "execution_count": 17,
   "metadata": {},
   "outputs": [
    {
     "output_type": "execute_result",
     "data": {
      "text/plain": [
       "<acme.tf.savers.Snapshot at 0x7f196023efa0>"
      ]
     },
     "metadata": {},
     "execution_count": 17
    }
   ],
   "source": [
    "agent"
   ]
  },
  {
   "cell_type": "code",
   "execution_count": 10,
   "metadata": {},
   "outputs": [],
   "source": [
    "from tensorflow.saved_model import load"
   ]
  },
  {
   "cell_type": "code",
   "execution_count": 22,
   "metadata": {},
   "outputs": [
    {
     "output_type": "error",
     "ename": "OSError",
     "evalue": "SavedModel file does not exist at: /home/hayato/acme/b8ca9590-d77d-11eb-b169-332db766104b/checkpoints/dqn_learner/{saved_model.pbtxt|saved_model.pb}",
     "traceback": [
      "\u001b[0;31m---------------------------------------------------------------------------\u001b[0m",
      "\u001b[0;31mOSError\u001b[0m                                   Traceback (most recent call last)",
      "\u001b[0;32m<ipython-input-22-0ed1ae2e1619>\u001b[0m in \u001b[0;36m<module>\u001b[0;34m\u001b[0m\n\u001b[0;32m----> 1\u001b[0;31m \u001b[0magent\u001b[0m \u001b[0;34m=\u001b[0m \u001b[0mload\u001b[0m\u001b[0;34m(\u001b[0m\u001b[0;34m'/home/hayato/acme/b8ca9590-d77d-11eb-b169-332db766104b/checkpoints/dqn_learner'\u001b[0m\u001b[0;34m)\u001b[0m\u001b[0;34m\u001b[0m\u001b[0;34m\u001b[0m\u001b[0m\n\u001b[0m",
      "\u001b[0;32m~/anaconda3/envs/acme/lib/python3.8/site-packages/tensorflow/python/saved_model/load.py\u001b[0m in \u001b[0;36mload\u001b[0;34m(export_dir, tags, options)\u001b[0m\n\u001b[1;32m    862\u001b[0m   \"\"\"\n\u001b[1;32m    863\u001b[0m   \u001b[0mmetrics\u001b[0m\u001b[0;34m.\u001b[0m\u001b[0mIncrementReadApi\u001b[0m\u001b[0;34m(\u001b[0m\u001b[0m_LOAD_V2_LABEL\u001b[0m\u001b[0;34m)\u001b[0m\u001b[0;34m\u001b[0m\u001b[0;34m\u001b[0m\u001b[0m\n\u001b[0;32m--> 864\u001b[0;31m   \u001b[0mresult\u001b[0m \u001b[0;34m=\u001b[0m \u001b[0mload_internal\u001b[0m\u001b[0;34m(\u001b[0m\u001b[0mexport_dir\u001b[0m\u001b[0;34m,\u001b[0m \u001b[0mtags\u001b[0m\u001b[0;34m,\u001b[0m \u001b[0moptions\u001b[0m\u001b[0;34m)\u001b[0m\u001b[0;34m[\u001b[0m\u001b[0;34m\"root\"\u001b[0m\u001b[0;34m]\u001b[0m\u001b[0;34m\u001b[0m\u001b[0;34m\u001b[0m\u001b[0m\n\u001b[0m\u001b[1;32m    865\u001b[0m   \u001b[0mmetrics\u001b[0m\u001b[0;34m.\u001b[0m\u001b[0mIncrementRead\u001b[0m\u001b[0;34m(\u001b[0m\u001b[0;34m)\u001b[0m\u001b[0;34m\u001b[0m\u001b[0;34m\u001b[0m\u001b[0m\n\u001b[1;32m    866\u001b[0m   \u001b[0;32mreturn\u001b[0m \u001b[0mresult\u001b[0m\u001b[0;34m\u001b[0m\u001b[0;34m\u001b[0m\u001b[0m\n",
      "\u001b[0;32m~/anaconda3/envs/acme/lib/python3.8/site-packages/tensorflow/python/saved_model/load.py\u001b[0m in \u001b[0;36mload_internal\u001b[0;34m(export_dir, tags, options, loader_cls, filters)\u001b[0m\n\u001b[1;32m    876\u001b[0m     \u001b[0mtags\u001b[0m \u001b[0;34m=\u001b[0m \u001b[0mnest\u001b[0m\u001b[0;34m.\u001b[0m\u001b[0mflatten\u001b[0m\u001b[0;34m(\u001b[0m\u001b[0mtags\u001b[0m\u001b[0;34m)\u001b[0m\u001b[0;34m\u001b[0m\u001b[0;34m\u001b[0m\u001b[0m\n\u001b[1;32m    877\u001b[0m   saved_model_proto, debug_info = (\n\u001b[0;32m--> 878\u001b[0;31m       loader_impl.parse_saved_model_with_debug_info(export_dir))\n\u001b[0m\u001b[1;32m    879\u001b[0m \u001b[0;34m\u001b[0m\u001b[0m\n\u001b[1;32m    880\u001b[0m   if (len(saved_model_proto.meta_graphs) == 1 and\n",
      "\u001b[0;32m~/anaconda3/envs/acme/lib/python3.8/site-packages/tensorflow/python/saved_model/loader_impl.py\u001b[0m in \u001b[0;36mparse_saved_model_with_debug_info\u001b[0;34m(export_dir)\u001b[0m\n\u001b[1;32m     58\u001b[0m     \u001b[0mparsed\u001b[0m\u001b[0;34m.\u001b[0m \u001b[0mMissing\u001b[0m \u001b[0mgraph\u001b[0m \u001b[0mdebug\u001b[0m \u001b[0minfo\u001b[0m \u001b[0mfile\u001b[0m \u001b[0;32mis\u001b[0m \u001b[0mfine\u001b[0m\u001b[0;34m.\u001b[0m\u001b[0;34m\u001b[0m\u001b[0;34m\u001b[0m\u001b[0m\n\u001b[1;32m     59\u001b[0m   \"\"\"\n\u001b[0;32m---> 60\u001b[0;31m   \u001b[0msaved_model\u001b[0m \u001b[0;34m=\u001b[0m \u001b[0m_parse_saved_model\u001b[0m\u001b[0;34m(\u001b[0m\u001b[0mexport_dir\u001b[0m\u001b[0;34m)\u001b[0m\u001b[0;34m\u001b[0m\u001b[0;34m\u001b[0m\u001b[0m\n\u001b[0m\u001b[1;32m     61\u001b[0m \u001b[0;34m\u001b[0m\u001b[0m\n\u001b[1;32m     62\u001b[0m   debug_info_path = os.path.join(\n",
      "\u001b[0;32m~/anaconda3/envs/acme/lib/python3.8/site-packages/tensorflow/python/saved_model/loader_impl.py\u001b[0m in \u001b[0;36mparse_saved_model\u001b[0;34m(export_dir)\u001b[0m\n\u001b[1;32m    116\u001b[0m       \u001b[0;32mraise\u001b[0m \u001b[0mIOError\u001b[0m\u001b[0;34m(\u001b[0m\u001b[0;34m\"Cannot parse file %s: %s.\"\u001b[0m \u001b[0;34m%\u001b[0m \u001b[0;34m(\u001b[0m\u001b[0mpath_to_pbtxt\u001b[0m\u001b[0;34m,\u001b[0m \u001b[0mstr\u001b[0m\u001b[0;34m(\u001b[0m\u001b[0me\u001b[0m\u001b[0;34m)\u001b[0m\u001b[0;34m)\u001b[0m\u001b[0;34m)\u001b[0m\u001b[0;34m\u001b[0m\u001b[0;34m\u001b[0m\u001b[0m\n\u001b[1;32m    117\u001b[0m   \u001b[0;32melse\u001b[0m\u001b[0;34m:\u001b[0m\u001b[0;34m\u001b[0m\u001b[0;34m\u001b[0m\u001b[0m\n\u001b[0;32m--> 118\u001b[0;31m     raise IOError(\n\u001b[0m\u001b[1;32m    119\u001b[0m         \u001b[0;34m\"SavedModel file does not exist at: %s%s{%s|%s}\"\u001b[0m \u001b[0;34m%\u001b[0m\u001b[0;34m\u001b[0m\u001b[0;34m\u001b[0m\u001b[0m\n\u001b[1;32m    120\u001b[0m         (export_dir, os.path.sep, constants.SAVED_MODEL_FILENAME_PBTXT,\n",
      "\u001b[0;31mOSError\u001b[0m: SavedModel file does not exist at: /home/hayato/acme/b8ca9590-d77d-11eb-b169-332db766104b/checkpoints/dqn_learner/{saved_model.pbtxt|saved_model.pb}"
     ]
    }
   ],
   "source": [
    "agent = load('/home/hayato/acme/b8ca9590-d77d-11eb-b169-332db766104b/checkpoints/dqn_learner')"
   ]
  },
  {
   "cell_type": "code",
   "execution_count": 23,
   "metadata": {},
   "outputs": [],
   "source": [
    "# agent.save('pong_model')\n",
    "from acme.tf.savers import Checkpointer, Snapshotter"
   ]
  },
  {
   "cell_type": "code",
   "execution_count": 24,
   "metadata": {},
   "outputs": [],
   "source": [
    "checkpointer = Checkpointer(objects_to_save={'model': network})"
   ]
  },
  {
   "cell_type": "code",
   "execution_count": 27,
   "metadata": {},
   "outputs": [],
   "source": [
    "checkpointer._checkpoint_dir = '/home/hayato/acme/b8ca9590-d77d-11eb-b169-332db766104b/checkpoints/dqn_learner'"
   ]
  },
  {
   "cell_type": "code",
   "execution_count": 33,
   "metadata": {},
   "outputs": [
    {
     "output_type": "error",
     "ename": "AttributeError",
     "evalue": "'Snapshot' object has no attribute '_checkpointer'",
     "traceback": [
      "\u001b[0;31m---------------------------------------------------------------------------\u001b[0m",
      "\u001b[0;31mAttributeError\u001b[0m                            Traceback (most recent call last)",
      "\u001b[0;32m<ipython-input-33-496548f9ab25>\u001b[0m in \u001b[0;36m<module>\u001b[0;34m\u001b[0m\n\u001b[0;32m----> 1\u001b[0;31m \u001b[0magent\u001b[0m\u001b[0;34m.\u001b[0m\u001b[0m_checkpointer\u001b[0m\u001b[0;34m\u001b[0m\u001b[0;34m\u001b[0m\u001b[0m\n\u001b[0m",
      "\u001b[0;31mAttributeError\u001b[0m: 'Snapshot' object has no attribute '_checkpointer'"
     ]
    }
   ],
   "source": [
    "agent._checkpointer"
   ]
  },
  {
   "cell_type": "code",
   "execution_count": null,
   "metadata": {},
   "outputs": [],
   "source": []
  },
  {
   "cell_type": "code",
   "execution_count": null,
   "metadata": {},
   "outputs": [],
   "source": [
    "from tensorflow.train import Checkpoint"
   ]
  },
  {
   "cell_type": "code",
   "execution_count": 21,
   "metadata": {},
   "outputs": [],
   "source": [
    "checkpointer._checkpoint_manager._latest_checkpoint = '/home/hayato/acme/b8ca9590-d77d-11eb-b169-332db766104b/checkpoints/dqn_learner'"
   ]
  },
  {
   "cell_type": "code",
   "execution_count": 25,
   "metadata": {},
   "outputs": [],
   "source": [
    "# checkpointer = Checkpointer(objects_to_save={'model': agent})\n",
    "snapshot = Snapshotter(objects_to_save={\"model\": network})"
   ]
  },
  {
   "cell_type": "code",
   "execution_count": 26,
   "metadata": {},
   "outputs": [
    {
     "output_type": "stream",
     "name": "stdout",
     "text": [
      "INFO:tensorflow:Assets written to: /home/hayato/acme/155dbec6-d5f4-11eb-a11b-03d440faad90/snapshots/model/assets\n",
      "INFO:tensorflow:Assets written to: /home/hayato/acme/155dbec6-d5f4-11eb-a11b-03d440faad90/snapshots/model/assets\n"
     ]
    },
    {
     "output_type": "execute_result",
     "data": {
      "text/plain": [
       "True"
      ]
     },
     "metadata": {},
     "execution_count": 26
    }
   ],
   "source": [
    "snapshot.save()"
   ]
  },
  {
   "cell_type": "code",
   "execution_count": null,
   "metadata": {},
   "outputs": [],
   "source": []
  }
 ]
}