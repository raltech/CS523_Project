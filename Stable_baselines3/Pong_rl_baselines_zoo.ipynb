{
  "nbformat": 4,
  "nbformat_minor": 0,
  "metadata": {
    "accelerator": "GPU",
    "colab": {
      "name": "Pong rl-baselines-zoo.ipynb",
      "provenance": [],
      "collapsed_sections": []
    },
    "kernelspec": {
      "display_name": "Python 3",
      "name": "python3"
    }
  },
  "cells": [
    {
      "cell_type": "markdown",
      "metadata": {
        "id": "XJy9QoDC7XA7"
      },
      "source": [
        "# RL Baselines3 Zoo: Training in Colab\n",
        "\n",
        "\n",
        "\n",
        "Github Repo: [https://github.com/DLR-RM/rl-baselines3-zoo](https://github.com/DLR-RM/rl-baselines3-zoo)\n",
        "\n",
        "Stable-Baselines3 Repo: [https://github.com/DLR-RM/rl-baselines3-zoo](https://github.com/DLR-RM/stable-baselines3)\n",
        "\n",
        "\n",
        "# Install Dependencies\n",
        "\n"
      ]
    },
    {
      "cell_type": "code",
      "metadata": {
        "colab": {
          "base_uri": "https://localhost:8080/"
        },
        "id": "AXVDDlTn02M9",
        "outputId": "a265e42d-923e-4c8f-f88b-a341bbe93474"
      },
      "source": [
        "!apt-get install swig cmake ffmpeg freeglut3-dev xvfb"
      ],
      "execution_count": 2,
      "outputs": [
        {
          "output_type": "stream",
          "text": [
            "Reading package lists... Done\n",
            "Building dependency tree       \n",
            "Reading state information... Done\n",
            "freeglut3-dev is already the newest version (2.8.1-3).\n",
            "swig is already the newest version (3.0.12-1).\n",
            "cmake is already the newest version (3.10.2-1ubuntu2.18.04.1).\n",
            "ffmpeg is already the newest version (7:3.4.8-0ubuntu0.2).\n",
            "xvfb is already the newest version (2:1.19.6-1ubuntu4.9).\n",
            "0 upgraded, 0 newly installed, 0 to remove and 39 not upgraded.\n"
          ],
          "name": "stdout"
        }
      ]
    },
    {
      "cell_type": "markdown",
      "metadata": {
        "id": "kDjF3qRg7oGH"
      },
      "source": [
        "## Clone RL Baselines3 Zoo Repo"
      ]
    },
    {
      "cell_type": "code",
      "metadata": {
        "colab": {
          "base_uri": "https://localhost:8080/"
        },
        "id": "SCjGikdT1DFy",
        "outputId": "29e66514-fe7a-467f-afec-e565d2821046"
      },
      "source": [
        "!git clone --recursive https://github.com/DLR-RM/rl-baselines3-zoo"
      ],
      "execution_count": 3,
      "outputs": [
        {
          "output_type": "stream",
          "text": [
            "fatal: destination path 'rl-baselines3-zoo' already exists and is not an empty directory.\n"
          ],
          "name": "stdout"
        }
      ]
    },
    {
      "cell_type": "code",
      "metadata": {
        "colab": {
          "base_uri": "https://localhost:8080/"
        },
        "id": "REMQlh-ezyVt",
        "outputId": "f4ff4c86-461b-4220-f4e5-b10164183d72"
      },
      "source": [
        "%cd /content/rl-baselines3-zoo/"
      ],
      "execution_count": 4,
      "outputs": [
        {
          "output_type": "stream",
          "text": [
            "/content/rl-baselines3-zoo\n"
          ],
          "name": "stdout"
        }
      ]
    },
    {
      "cell_type": "markdown",
      "metadata": {
        "id": "5tmD_QTBqTMb"
      },
      "source": [
        "### Install pip dependencies"
      ]
    },
    {
      "cell_type": "code",
      "metadata": {
        "colab": {
          "base_uri": "https://localhost:8080/"
        },
        "id": "OWIDzgJTqShY",
        "outputId": "1634df24-c9f0-4e50-97ae-23ef9ccd9a32"
      },
      "source": [
        "!pip install -r requirements.txt"
      ],
      "execution_count": 5,
      "outputs": [
        {
          "output_type": "stream",
          "text": [
            "Requirement already satisfied: stable-baselines3[docs,extra,tests]>=1.1.0a11 in /usr/local/lib/python3.7/dist-packages (from -r requirements.txt (line 1)) (1.1.0a11)\n",
            "Requirement already satisfied: box2d-py==2.3.8 in /usr/local/lib/python3.7/dist-packages (from -r requirements.txt (line 2)) (2.3.8)\n",
            "Requirement already satisfied: pybullet in /usr/local/lib/python3.7/dist-packages (from -r requirements.txt (line 3)) (3.1.7)\n",
            "Requirement already satisfied: gym-minigrid in /usr/local/lib/python3.7/dist-packages (from -r requirements.txt (line 4)) (1.0.2)\n",
            "Requirement already satisfied: scikit-optimize in /usr/local/lib/python3.7/dist-packages (from -r requirements.txt (line 5)) (0.8.1)\n",
            "Requirement already satisfied: optuna in /usr/local/lib/python3.7/dist-packages (from -r requirements.txt (line 6)) (2.8.0)\n",
            "Requirement already satisfied: pytablewriter in /usr/local/lib/python3.7/dist-packages (from -r requirements.txt (line 7)) (0.61.0)\n",
            "Requirement already satisfied: seaborn in /usr/local/lib/python3.7/dist-packages (from -r requirements.txt (line 8)) (0.11.1)\n",
            "Requirement already satisfied: pyyaml>=5.1 in /usr/local/lib/python3.7/dist-packages (from -r requirements.txt (line 9)) (5.4.1)\n",
            "Requirement already satisfied: sb3-contrib>=1.1.0a11 in /usr/local/lib/python3.7/dist-packages (from -r requirements.txt (line 10)) (1.1.0a11)\n",
            "Requirement already satisfied: cloudpickle>=1.5.0 in /usr/local/lib/python3.7/dist-packages (from -r requirements.txt (line 11)) (1.6.0)\n",
            "Requirement already satisfied: atari-py==0.2.6 in /usr/local/lib/python3.7/dist-packages (from -r requirements.txt (line 13)) (0.2.6)\n",
            "Requirement already satisfied: plotly in /usr/local/lib/python3.7/dist-packages (from -r requirements.txt (line 14)) (4.4.1)\n",
            "Requirement already satisfied: gym>=0.17 in /usr/local/lib/python3.7/dist-packages (from stable-baselines3[docs,extra,tests]>=1.1.0a11->-r requirements.txt (line 1)) (0.17.3)\n",
            "Requirement already satisfied: matplotlib in /usr/local/lib/python3.7/dist-packages (from stable-baselines3[docs,extra,tests]>=1.1.0a11->-r requirements.txt (line 1)) (3.2.2)\n",
            "Requirement already satisfied: numpy in /usr/local/lib/python3.7/dist-packages (from stable-baselines3[docs,extra,tests]>=1.1.0a11->-r requirements.txt (line 1)) (1.19.5)\n",
            "Requirement already satisfied: pandas in /usr/local/lib/python3.7/dist-packages (from stable-baselines3[docs,extra,tests]>=1.1.0a11->-r requirements.txt (line 1)) (1.1.5)\n",
            "Requirement already satisfied: torch>=1.4.0 in /usr/local/lib/python3.7/dist-packages (from stable-baselines3[docs,extra,tests]>=1.1.0a11->-r requirements.txt (line 1)) (1.9.0+cu102)\n",
            "Requirement already satisfied: sphinx-autodoc-typehints; extra == \"docs\" in /usr/local/lib/python3.7/dist-packages (from stable-baselines3[docs,extra,tests]>=1.1.0a11->-r requirements.txt (line 1)) (1.12.0)\n",
            "Requirement already satisfied: sphinx-rtd-theme; extra == \"docs\" in /usr/local/lib/python3.7/dist-packages (from stable-baselines3[docs,extra,tests]>=1.1.0a11->-r requirements.txt (line 1)) (0.5.2)\n",
            "Requirement already satisfied: sphinx-autobuild; extra == \"docs\" in /usr/local/lib/python3.7/dist-packages (from stable-baselines3[docs,extra,tests]>=1.1.0a11->-r requirements.txt (line 1)) (2021.3.14)\n",
            "Requirement already satisfied: sphinx; extra == \"docs\" in /usr/local/lib/python3.7/dist-packages (from stable-baselines3[docs,extra,tests]>=1.1.0a11->-r requirements.txt (line 1)) (1.8.5)\n",
            "Collecting sphinxcontrib.spelling; extra == \"docs\"\n",
            "  Using cached https://files.pythonhosted.org/packages/50/9d/7fd15b645c7eec20c6fe85b392ae296ccd893fec8179645dc81d0bae4ad8/sphinxcontrib_spelling-7.2.1-py3-none-any.whl\n",
            "Requirement already satisfied: pillow; extra == \"extra\" in /usr/local/lib/python3.7/dist-packages (from stable-baselines3[docs,extra,tests]>=1.1.0a11->-r requirements.txt (line 1)) (7.1.2)\n",
            "Requirement already satisfied: psutil; extra == \"extra\" in /usr/local/lib/python3.7/dist-packages (from stable-baselines3[docs,extra,tests]>=1.1.0a11->-r requirements.txt (line 1)) (5.4.8)\n",
            "Requirement already satisfied: tensorboard>=2.2.0; extra == \"extra\" in /usr/local/lib/python3.7/dist-packages (from stable-baselines3[docs,extra,tests]>=1.1.0a11->-r requirements.txt (line 1)) (2.5.0)\n",
            "Requirement already satisfied: opencv-python; extra == \"extra\" in /usr/local/lib/python3.7/dist-packages (from stable-baselines3[docs,extra,tests]>=1.1.0a11->-r requirements.txt (line 1)) (4.1.2.30)\n",
            "Requirement already satisfied: pytype; extra == \"tests\" in /usr/local/lib/python3.7/dist-packages (from stable-baselines3[docs,extra,tests]>=1.1.0a11->-r requirements.txt (line 1)) (2021.6.17)\n",
            "Requirement already satisfied: black; extra == \"tests\" in /usr/local/lib/python3.7/dist-packages (from stable-baselines3[docs,extra,tests]>=1.1.0a11->-r requirements.txt (line 1)) (21.6b0)\n",
            "Requirement already satisfied: flake8>=3.8; extra == \"tests\" in /usr/local/lib/python3.7/dist-packages (from stable-baselines3[docs,extra,tests]>=1.1.0a11->-r requirements.txt (line 1)) (3.9.2)\n",
            "Requirement already satisfied: pytest-env; extra == \"tests\" in /usr/local/lib/python3.7/dist-packages (from stable-baselines3[docs,extra,tests]>=1.1.0a11->-r requirements.txt (line 1)) (0.6.2)\n",
            "Requirement already satisfied: pytest-xdist; extra == \"tests\" in /usr/local/lib/python3.7/dist-packages (from stable-baselines3[docs,extra,tests]>=1.1.0a11->-r requirements.txt (line 1)) (2.3.0)\n",
            "Requirement already satisfied: pytest-cov; extra == \"tests\" in /usr/local/lib/python3.7/dist-packages (from stable-baselines3[docs,extra,tests]>=1.1.0a11->-r requirements.txt (line 1)) (2.12.1)\n",
            "Requirement already satisfied: flake8-bugbear; extra == \"tests\" in /usr/local/lib/python3.7/dist-packages (from stable-baselines3[docs,extra,tests]>=1.1.0a11->-r requirements.txt (line 1)) (21.4.3)\n",
            "Requirement already satisfied: isort>=5.0; extra == \"tests\" in /usr/local/lib/python3.7/dist-packages (from stable-baselines3[docs,extra,tests]>=1.1.0a11->-r requirements.txt (line 1)) (5.9.1)\n",
            "Requirement already satisfied: pytest; extra == \"tests\" in /usr/local/lib/python3.7/dist-packages (from stable-baselines3[docs,extra,tests]>=1.1.0a11->-r requirements.txt (line 1)) (3.6.4)\n",
            "Requirement already satisfied: scipy>=0.19.1 in /usr/local/lib/python3.7/dist-packages (from scikit-optimize->-r requirements.txt (line 5)) (1.4.1)\n",
            "Requirement already satisfied: scikit-learn>=0.20.0 in /usr/local/lib/python3.7/dist-packages (from scikit-optimize->-r requirements.txt (line 5)) (0.22.2.post1)\n",
            "Requirement already satisfied: joblib>=0.11 in /usr/local/lib/python3.7/dist-packages (from scikit-optimize->-r requirements.txt (line 5)) (1.0.1)\n",
            "Requirement already satisfied: pyaml>=16.9 in /usr/local/lib/python3.7/dist-packages (from scikit-optimize->-r requirements.txt (line 5)) (20.4.0)\n",
            "Requirement already satisfied: cliff in /usr/local/lib/python3.7/dist-packages (from optuna->-r requirements.txt (line 6)) (3.8.0)\n",
            "Requirement already satisfied: tqdm in /usr/local/lib/python3.7/dist-packages (from optuna->-r requirements.txt (line 6)) (4.41.1)\n",
            "Requirement already satisfied: sqlalchemy>=1.1.0 in /usr/local/lib/python3.7/dist-packages (from optuna->-r requirements.txt (line 6)) (1.4.18)\n",
            "Requirement already satisfied: cmaes>=0.8.2 in /usr/local/lib/python3.7/dist-packages (from optuna->-r requirements.txt (line 6)) (0.8.2)\n",
            "Requirement already satisfied: alembic in /usr/local/lib/python3.7/dist-packages (from optuna->-r requirements.txt (line 6)) (1.6.5)\n",
            "Requirement already satisfied: packaging>=20.0 in /usr/local/lib/python3.7/dist-packages (from optuna->-r requirements.txt (line 6)) (20.9)\n",
            "Requirement already satisfied: colorlog in /usr/local/lib/python3.7/dist-packages (from optuna->-r requirements.txt (line 6)) (5.0.1)\n",
            "Requirement already satisfied: tabledata<2,>=1.1.3 in /usr/local/lib/python3.7/dist-packages (from pytablewriter->-r requirements.txt (line 7)) (1.1.4)\n",
            "Requirement already satisfied: setuptools>=38.3.0 in /usr/local/lib/python3.7/dist-packages (from pytablewriter->-r requirements.txt (line 7)) (57.0.0)\n",
            "Requirement already satisfied: mbstrdecoder<2,>=1.0.0 in /usr/local/lib/python3.7/dist-packages (from pytablewriter->-r requirements.txt (line 7)) (1.0.1)\n",
            "Requirement already satisfied: tcolorpy<1,>=0.0.5 in /usr/local/lib/python3.7/dist-packages (from pytablewriter->-r requirements.txt (line 7)) (0.1.1)\n",
            "Requirement already satisfied: DataProperty<2,>=0.50.1 in /usr/local/lib/python3.7/dist-packages (from pytablewriter->-r requirements.txt (line 7)) (0.50.1)\n",
            "Requirement already satisfied: typepy[datetime]<2,>=1.1.4 in /usr/local/lib/python3.7/dist-packages (from pytablewriter->-r requirements.txt (line 7)) (1.1.5)\n",
            "Requirement already satisfied: pathvalidate<3,>=2.3.0 in /usr/local/lib/python3.7/dist-packages (from pytablewriter->-r requirements.txt (line 7)) (2.4.1)\n",
            "Requirement already satisfied: six in /usr/local/lib/python3.7/dist-packages (from atari-py==0.2.6->-r requirements.txt (line 13)) (1.15.0)\n",
            "Requirement already satisfied: retrying>=1.3.3 in /usr/local/lib/python3.7/dist-packages (from plotly->-r requirements.txt (line 14)) (1.3.3)\n",
            "Requirement already satisfied: pyglet<=1.5.0,>=1.4.0 in /usr/local/lib/python3.7/dist-packages (from gym>=0.17->stable-baselines3[docs,extra,tests]>=1.1.0a11->-r requirements.txt (line 1)) (1.5.0)\n",
            "Requirement already satisfied: kiwisolver>=1.0.1 in /usr/local/lib/python3.7/dist-packages (from matplotlib->stable-baselines3[docs,extra,tests]>=1.1.0a11->-r requirements.txt (line 1)) (1.3.1)\n",
            "Requirement already satisfied: pyparsing!=2.0.4,!=2.1.2,!=2.1.6,>=2.0.1 in /usr/local/lib/python3.7/dist-packages (from matplotlib->stable-baselines3[docs,extra,tests]>=1.1.0a11->-r requirements.txt (line 1)) (2.4.7)\n",
            "Requirement already satisfied: cycler>=0.10 in /usr/local/lib/python3.7/dist-packages (from matplotlib->stable-baselines3[docs,extra,tests]>=1.1.0a11->-r requirements.txt (line 1)) (0.10.0)\n",
            "Requirement already satisfied: python-dateutil>=2.1 in /usr/local/lib/python3.7/dist-packages (from matplotlib->stable-baselines3[docs,extra,tests]>=1.1.0a11->-r requirements.txt (line 1)) (2.8.1)\n",
            "Requirement already satisfied: pytz>=2017.2 in /usr/local/lib/python3.7/dist-packages (from pandas->stable-baselines3[docs,extra,tests]>=1.1.0a11->-r requirements.txt (line 1)) (2018.9)\n",
            "Requirement already satisfied: typing-extensions in /usr/local/lib/python3.7/dist-packages (from torch>=1.4.0->stable-baselines3[docs,extra,tests]>=1.1.0a11->-r requirements.txt (line 1)) (3.7.4.3)\n",
            "Collecting docutils<0.17\n",
            "\u001b[?25l  Downloading https://files.pythonhosted.org/packages/81/44/8a15e45ffa96e6cf82956dd8d7af9e666357e16b0d93b253903475ee947f/docutils-0.16-py2.py3-none-any.whl (548kB)\n",
            "\u001b[K     |████████████████████████████████| 552kB 7.4MB/s \n",
            "\u001b[?25hRequirement already satisfied: colorama in /usr/local/lib/python3.7/dist-packages (from sphinx-autobuild; extra == \"docs\"->stable-baselines3[docs,extra,tests]>=1.1.0a11->-r requirements.txt (line 1)) (0.4.4)\n",
            "Requirement already satisfied: livereload in /usr/local/lib/python3.7/dist-packages (from sphinx-autobuild; extra == \"docs\"->stable-baselines3[docs,extra,tests]>=1.1.0a11->-r requirements.txt (line 1)) (2.6.3)\n",
            "Requirement already satisfied: requests>=2.0.0 in /usr/local/lib/python3.7/dist-packages (from sphinx; extra == \"docs\"->stable-baselines3[docs,extra,tests]>=1.1.0a11->-r requirements.txt (line 1)) (2.23.0)\n",
            "Requirement already satisfied: babel!=2.0,>=1.3 in /usr/local/lib/python3.7/dist-packages (from sphinx; extra == \"docs\"->stable-baselines3[docs,extra,tests]>=1.1.0a11->-r requirements.txt (line 1)) (2.9.1)\n",
            "Requirement already satisfied: snowballstemmer>=1.1 in /usr/local/lib/python3.7/dist-packages (from sphinx; extra == \"docs\"->stable-baselines3[docs,extra,tests]>=1.1.0a11->-r requirements.txt (line 1)) (2.1.0)\n",
            "Requirement already satisfied: Jinja2>=2.3 in /usr/local/lib/python3.7/dist-packages (from sphinx; extra == \"docs\"->stable-baselines3[docs,extra,tests]>=1.1.0a11->-r requirements.txt (line 1)) (2.11.3)\n",
            "Requirement already satisfied: imagesize in /usr/local/lib/python3.7/dist-packages (from sphinx; extra == \"docs\"->stable-baselines3[docs,extra,tests]>=1.1.0a11->-r requirements.txt (line 1)) (1.2.0)\n",
            "Requirement already satisfied: sphinxcontrib-websupport in /usr/local/lib/python3.7/dist-packages (from sphinx; extra == \"docs\"->stable-baselines3[docs,extra,tests]>=1.1.0a11->-r requirements.txt (line 1)) (1.2.4)\n",
            "Requirement already satisfied: alabaster<0.8,>=0.7 in /usr/local/lib/python3.7/dist-packages (from sphinx; extra == \"docs\"->stable-baselines3[docs,extra,tests]>=1.1.0a11->-r requirements.txt (line 1)) (0.7.12)\n",
            "Requirement already satisfied: Pygments>=2.0 in /usr/local/lib/python3.7/dist-packages (from sphinx; extra == \"docs\"->stable-baselines3[docs,extra,tests]>=1.1.0a11->-r requirements.txt (line 1)) (2.6.1)\n",
            "Requirement already satisfied: PyEnchant>=3.1.1 in /usr/local/lib/python3.7/dist-packages (from sphinxcontrib.spelling; extra == \"docs\"->stable-baselines3[docs,extra,tests]>=1.1.0a11->-r requirements.txt (line 1)) (3.2.1)\n",
            "Requirement already satisfied: importlib-metadata>=1.7.0; python_version < \"3.8\" in /usr/local/lib/python3.7/dist-packages (from sphinxcontrib.spelling; extra == \"docs\"->stable-baselines3[docs,extra,tests]>=1.1.0a11->-r requirements.txt (line 1)) (4.5.0)\n",
            "Requirement already satisfied: markdown>=2.6.8 in /usr/local/lib/python3.7/dist-packages (from tensorboard>=2.2.0; extra == \"extra\"->stable-baselines3[docs,extra,tests]>=1.1.0a11->-r requirements.txt (line 1)) (3.3.4)\n",
            "Requirement already satisfied: protobuf>=3.6.0 in /usr/local/lib/python3.7/dist-packages (from tensorboard>=2.2.0; extra == \"extra\"->stable-baselines3[docs,extra,tests]>=1.1.0a11->-r requirements.txt (line 1)) (3.12.4)\n",
            "Requirement already satisfied: wheel>=0.26; python_version >= \"3\" in /usr/local/lib/python3.7/dist-packages (from tensorboard>=2.2.0; extra == \"extra\"->stable-baselines3[docs,extra,tests]>=1.1.0a11->-r requirements.txt (line 1)) (0.36.2)\n",
            "Requirement already satisfied: werkzeug>=0.11.15 in /usr/local/lib/python3.7/dist-packages (from tensorboard>=2.2.0; extra == \"extra\"->stable-baselines3[docs,extra,tests]>=1.1.0a11->-r requirements.txt (line 1)) (1.0.1)\n",
            "Requirement already satisfied: tensorboard-data-server<0.7.0,>=0.6.0 in /usr/local/lib/python3.7/dist-packages (from tensorboard>=2.2.0; extra == \"extra\"->stable-baselines3[docs,extra,tests]>=1.1.0a11->-r requirements.txt (line 1)) (0.6.1)\n",
            "Requirement already satisfied: absl-py>=0.4 in /usr/local/lib/python3.7/dist-packages (from tensorboard>=2.2.0; extra == \"extra\"->stable-baselines3[docs,extra,tests]>=1.1.0a11->-r requirements.txt (line 1)) (0.12.0)\n",
            "Requirement already satisfied: tensorboard-plugin-wit>=1.6.0 in /usr/local/lib/python3.7/dist-packages (from tensorboard>=2.2.0; extra == \"extra\"->stable-baselines3[docs,extra,tests]>=1.1.0a11->-r requirements.txt (line 1)) (1.8.0)\n",
            "Requirement already satisfied: google-auth<2,>=1.6.3 in /usr/local/lib/python3.7/dist-packages (from tensorboard>=2.2.0; extra == \"extra\"->stable-baselines3[docs,extra,tests]>=1.1.0a11->-r requirements.txt (line 1)) (1.31.0)\n",
            "Requirement already satisfied: grpcio>=1.24.3 in /usr/local/lib/python3.7/dist-packages (from tensorboard>=2.2.0; extra == \"extra\"->stable-baselines3[docs,extra,tests]>=1.1.0a11->-r requirements.txt (line 1)) (1.34.1)\n",
            "Requirement already satisfied: google-auth-oauthlib<0.5,>=0.4.1 in /usr/local/lib/python3.7/dist-packages (from tensorboard>=2.2.0; extra == \"extra\"->stable-baselines3[docs,extra,tests]>=1.1.0a11->-r requirements.txt (line 1)) (0.4.4)\n",
            "Requirement already satisfied: attrs>=21.2.0 in /usr/local/lib/python3.7/dist-packages (from pytype; extra == \"tests\"->stable-baselines3[docs,extra,tests]>=1.1.0a11->-r requirements.txt (line 1)) (21.2.0)\n",
            "Requirement already satisfied: ninja>=1.10.0.post2 in /usr/local/lib/python3.7/dist-packages (from pytype; extra == \"tests\"->stable-baselines3[docs,extra,tests]>=1.1.0a11->-r requirements.txt (line 1)) (1.10.0.post2)\n",
            "Requirement already satisfied: importlab>=0.6.1 in /usr/local/lib/python3.7/dist-packages (from pytype; extra == \"tests\"->stable-baselines3[docs,extra,tests]>=1.1.0a11->-r requirements.txt (line 1)) (0.6.1)\n",
            "Requirement already satisfied: toml in /usr/local/lib/python3.7/dist-packages (from pytype; extra == \"tests\"->stable-baselines3[docs,extra,tests]>=1.1.0a11->-r requirements.txt (line 1)) (0.10.2)\n",
            "Requirement already satisfied: typed-ast>=1.4.3 in /usr/local/lib/python3.7/dist-packages (from pytype; extra == \"tests\"->stable-baselines3[docs,extra,tests]>=1.1.0a11->-r requirements.txt (line 1)) (1.4.3)\n",
            "Requirement already satisfied: pathspec<1,>=0.8.1 in /usr/local/lib/python3.7/dist-packages (from black; extra == \"tests\"->stable-baselines3[docs,extra,tests]>=1.1.0a11->-r requirements.txt (line 1)) (0.8.1)\n",
            "Requirement already satisfied: appdirs in /usr/local/lib/python3.7/dist-packages (from black; extra == \"tests\"->stable-baselines3[docs,extra,tests]>=1.1.0a11->-r requirements.txt (line 1)) (1.4.4)\n",
            "Requirement already satisfied: regex>=2020.1.8 in /usr/local/lib/python3.7/dist-packages (from black; extra == \"tests\"->stable-baselines3[docs,extra,tests]>=1.1.0a11->-r requirements.txt (line 1)) (2021.4.4)\n",
            "Requirement already satisfied: click>=7.1.2 in /usr/local/lib/python3.7/dist-packages (from black; extra == \"tests\"->stable-baselines3[docs,extra,tests]>=1.1.0a11->-r requirements.txt (line 1)) (7.1.2)\n",
            "Requirement already satisfied: mypy-extensions>=0.4.3 in /usr/local/lib/python3.7/dist-packages (from black; extra == \"tests\"->stable-baselines3[docs,extra,tests]>=1.1.0a11->-r requirements.txt (line 1)) (0.4.3)\n",
            "Requirement already satisfied: mccabe<0.7.0,>=0.6.0 in /usr/local/lib/python3.7/dist-packages (from flake8>=3.8; extra == \"tests\"->stable-baselines3[docs,extra,tests]>=1.1.0a11->-r requirements.txt (line 1)) (0.6.1)\n",
            "Requirement already satisfied: pyflakes<2.4.0,>=2.3.0 in /usr/local/lib/python3.7/dist-packages (from flake8>=3.8; extra == \"tests\"->stable-baselines3[docs,extra,tests]>=1.1.0a11->-r requirements.txt (line 1)) (2.3.1)\n",
            "Requirement already satisfied: pycodestyle<2.8.0,>=2.7.0 in /usr/local/lib/python3.7/dist-packages (from flake8>=3.8; extra == \"tests\"->stable-baselines3[docs,extra,tests]>=1.1.0a11->-r requirements.txt (line 1)) (2.7.0)\n",
            "Requirement already satisfied: pytest-forked in /usr/local/lib/python3.7/dist-packages (from pytest-xdist; extra == \"tests\"->stable-baselines3[docs,extra,tests]>=1.1.0a11->-r requirements.txt (line 1)) (1.3.0)\n",
            "Requirement already satisfied: execnet>=1.1 in /usr/local/lib/python3.7/dist-packages (from pytest-xdist; extra == \"tests\"->stable-baselines3[docs,extra,tests]>=1.1.0a11->-r requirements.txt (line 1)) (1.9.0)\n",
            "Requirement already satisfied: coverage>=5.2.1 in /usr/local/lib/python3.7/dist-packages (from pytest-cov; extra == \"tests\"->stable-baselines3[docs,extra,tests]>=1.1.0a11->-r requirements.txt (line 1)) (5.5)\n",
            "Requirement already satisfied: pluggy<0.8,>=0.5 in /usr/local/lib/python3.7/dist-packages (from pytest; extra == \"tests\"->stable-baselines3[docs,extra,tests]>=1.1.0a11->-r requirements.txt (line 1)) (0.7.1)\n",
            "Requirement already satisfied: py>=1.5.0 in /usr/local/lib/python3.7/dist-packages (from pytest; extra == \"tests\"->stable-baselines3[docs,extra,tests]>=1.1.0a11->-r requirements.txt (line 1)) (1.10.0)\n",
            "Requirement already satisfied: more-itertools>=4.0.0 in /usr/local/lib/python3.7/dist-packages (from pytest; extra == \"tests\"->stable-baselines3[docs,extra,tests]>=1.1.0a11->-r requirements.txt (line 1)) (8.8.0)\n",
            "Requirement already satisfied: atomicwrites>=1.0 in /usr/local/lib/python3.7/dist-packages (from pytest; extra == \"tests\"->stable-baselines3[docs,extra,tests]>=1.1.0a11->-r requirements.txt (line 1)) (1.4.0)\n",
            "Requirement already satisfied: stevedore>=2.0.1 in /usr/local/lib/python3.7/dist-packages (from cliff->optuna->-r requirements.txt (line 6)) (3.3.0)\n",
            "Requirement already satisfied: cmd2>=1.0.0 in /usr/local/lib/python3.7/dist-packages (from cliff->optuna->-r requirements.txt (line 6)) (2.1.1)\n",
            "Requirement already satisfied: PrettyTable>=0.7.2 in /usr/local/lib/python3.7/dist-packages (from cliff->optuna->-r requirements.txt (line 6)) (2.1.0)\n",
            "Requirement already satisfied: pbr!=2.1.0,>=2.0.0 in /usr/local/lib/python3.7/dist-packages (from cliff->optuna->-r requirements.txt (line 6)) (5.6.0)\n",
            "Requirement already satisfied: greenlet!=0.4.17; python_version >= \"3\" in /usr/local/lib/python3.7/dist-packages (from sqlalchemy>=1.1.0->optuna->-r requirements.txt (line 6)) (1.1.0)\n",
            "Requirement already satisfied: python-editor>=0.3 in /usr/local/lib/python3.7/dist-packages (from alembic->optuna->-r requirements.txt (line 6)) (1.0.4)\n",
            "Requirement already satisfied: Mako in /usr/local/lib/python3.7/dist-packages (from alembic->optuna->-r requirements.txt (line 6)) (1.1.4)\n",
            "Requirement already satisfied: chardet<5,>=3.0.4 in /usr/local/lib/python3.7/dist-packages (from mbstrdecoder<2,>=1.0.0->pytablewriter->-r requirements.txt (line 7)) (3.0.4)\n",
            "Requirement already satisfied: future in /usr/local/lib/python3.7/dist-packages (from pyglet<=1.5.0,>=1.4.0->gym>=0.17->stable-baselines3[docs,extra,tests]>=1.1.0a11->-r requirements.txt (line 1)) (0.16.0)\n",
            "Requirement already satisfied: tornado; python_version > \"2.7\" in /usr/local/lib/python3.7/dist-packages (from livereload->sphinx-autobuild; extra == \"docs\"->stable-baselines3[docs,extra,tests]>=1.1.0a11->-r requirements.txt (line 1)) (5.1.1)\n",
            "Requirement already satisfied: certifi>=2017.4.17 in /usr/local/lib/python3.7/dist-packages (from requests>=2.0.0->sphinx; extra == \"docs\"->stable-baselines3[docs,extra,tests]>=1.1.0a11->-r requirements.txt (line 1)) (2021.5.30)\n",
            "Requirement already satisfied: idna<3,>=2.5 in /usr/local/lib/python3.7/dist-packages (from requests>=2.0.0->sphinx; extra == \"docs\"->stable-baselines3[docs,extra,tests]>=1.1.0a11->-r requirements.txt (line 1)) (2.10)\n",
            "Requirement already satisfied: urllib3!=1.25.0,!=1.25.1,<1.26,>=1.21.1 in /usr/local/lib/python3.7/dist-packages (from requests>=2.0.0->sphinx; extra == \"docs\"->stable-baselines3[docs,extra,tests]>=1.1.0a11->-r requirements.txt (line 1)) (1.24.3)\n",
            "Requirement already satisfied: MarkupSafe>=0.23 in /usr/local/lib/python3.7/dist-packages (from Jinja2>=2.3->sphinx; extra == \"docs\"->stable-baselines3[docs,extra,tests]>=1.1.0a11->-r requirements.txt (line 1)) (2.0.1)\n",
            "Requirement already satisfied: sphinxcontrib-serializinghtml in /usr/local/lib/python3.7/dist-packages (from sphinxcontrib-websupport->sphinx; extra == \"docs\"->stable-baselines3[docs,extra,tests]>=1.1.0a11->-r requirements.txt (line 1)) (1.1.5)\n",
            "Requirement already satisfied: zipp>=0.5 in /usr/local/lib/python3.7/dist-packages (from importlib-metadata>=1.7.0; python_version < \"3.8\"->sphinxcontrib.spelling; extra == \"docs\"->stable-baselines3[docs,extra,tests]>=1.1.0a11->-r requirements.txt (line 1)) (3.4.1)\n",
            "Requirement already satisfied: cachetools<5.0,>=2.0.0 in /usr/local/lib/python3.7/dist-packages (from google-auth<2,>=1.6.3->tensorboard>=2.2.0; extra == \"extra\"->stable-baselines3[docs,extra,tests]>=1.1.0a11->-r requirements.txt (line 1)) (4.2.2)\n",
            "Requirement already satisfied: rsa<5,>=3.1.4; python_version >= \"3.6\" in /usr/local/lib/python3.7/dist-packages (from google-auth<2,>=1.6.3->tensorboard>=2.2.0; extra == \"extra\"->stable-baselines3[docs,extra,tests]>=1.1.0a11->-r requirements.txt (line 1)) (4.7.2)\n",
            "Requirement already satisfied: pyasn1-modules>=0.2.1 in /usr/local/lib/python3.7/dist-packages (from google-auth<2,>=1.6.3->tensorboard>=2.2.0; extra == \"extra\"->stable-baselines3[docs,extra,tests]>=1.1.0a11->-r requirements.txt (line 1)) (0.2.8)\n",
            "Requirement already satisfied: requests-oauthlib>=0.7.0 in /usr/local/lib/python3.7/dist-packages (from google-auth-oauthlib<0.5,>=0.4.1->tensorboard>=2.2.0; extra == \"extra\"->stable-baselines3[docs,extra,tests]>=1.1.0a11->-r requirements.txt (line 1)) (1.3.0)\n",
            "Requirement already satisfied: networkx>=2 in /usr/local/lib/python3.7/dist-packages (from importlab>=0.6.1->pytype; extra == \"tests\"->stable-baselines3[docs,extra,tests]>=1.1.0a11->-r requirements.txt (line 1)) (2.5.1)\n",
            "Requirement already satisfied: wcwidth>=0.1.7 in /usr/local/lib/python3.7/dist-packages (from cmd2>=1.0.0->cliff->optuna->-r requirements.txt (line 6)) (0.2.5)\n",
            "Requirement already satisfied: pyperclip>=1.6 in /usr/local/lib/python3.7/dist-packages (from cmd2>=1.0.0->cliff->optuna->-r requirements.txt (line 6)) (1.8.2)\n",
            "Requirement already satisfied: pyasn1>=0.1.3 in /usr/local/lib/python3.7/dist-packages (from rsa<5,>=3.1.4; python_version >= \"3.6\"->google-auth<2,>=1.6.3->tensorboard>=2.2.0; extra == \"extra\"->stable-baselines3[docs,extra,tests]>=1.1.0a11->-r requirements.txt (line 1)) (0.4.8)\n",
            "Requirement already satisfied: oauthlib>=3.0.0 in /usr/local/lib/python3.7/dist-packages (from requests-oauthlib>=0.7.0->google-auth-oauthlib<0.5,>=0.4.1->tensorboard>=2.2.0; extra == \"extra\"->stable-baselines3[docs,extra,tests]>=1.1.0a11->-r requirements.txt (line 1)) (3.1.1)\n",
            "Requirement already satisfied: decorator<5,>=4.3 in /usr/local/lib/python3.7/dist-packages (from networkx>=2->importlab>=0.6.1->pytype; extra == \"tests\"->stable-baselines3[docs,extra,tests]>=1.1.0a11->-r requirements.txt (line 1)) (4.4.2)\n",
            "\u001b[31mERROR: sphinxcontrib-spelling 7.2.1 has requirement Sphinx>=3.0.0, but you'll have sphinx 1.8.5 which is incompatible.\u001b[0m\n",
            "\u001b[31mERROR: sphinx-autodoc-typehints 1.12.0 has requirement Sphinx>=3.0, but you'll have sphinx 1.8.5 which is incompatible.\u001b[0m\n",
            "\u001b[31mERROR: datascience 0.10.6 has requirement coverage==3.7.1, but you'll have coverage 5.5 which is incompatible.\u001b[0m\n",
            "\u001b[31mERROR: datascience 0.10.6 has requirement folium==0.2.1, but you'll have folium 0.8.3 which is incompatible.\u001b[0m\n",
            "Installing collected packages: sphinxcontrib.spelling, docutils\n",
            "  Found existing installation: docutils 0.17.1\n",
            "    Uninstalling docutils-0.17.1:\n",
            "      Successfully uninstalled docutils-0.17.1\n",
            "Successfully installed docutils-0.16 sphinxcontrib.spelling\n"
          ],
          "name": "stdout"
        }
      ]
    },
    {
      "cell_type": "markdown",
      "metadata": {
        "id": "6gJ-pAbF7zRZ"
      },
      "source": [
        "## Train an RL Agent\n",
        "\n",
        "\n",
        "The train agent can be found in the `logs/` folder.\n",
        "\n",
        "To train it on Pong (Atari), I just have to pass `--env PongNoFrameskip-v4`\n",
        "I usually retrained the model by refercing the previous trained model made prior."
      ]
    },
    {
      "cell_type": "code",
      "metadata": {
        "colab": {
          "base_uri": "https://localhost:8080/"
        },
        "id": "Ue3XCyQeHvPI",
        "outputId": "2a1a9cf3-058f-41b7-ada6-f70f7305a0bf"
      },
      "source": [
        "!python train.py --algo dqn --env PongNoFrameskip-v4 -i logs/dqn/PongNoFrameskip-v4_1/PongNoFrameskip-v4.zip -n 5000\n"
      ],
      "execution_count": 6,
      "outputs": [
        {
          "output_type": "stream",
          "text": [
            "========== PongNoFrameskip-v4 ==========\n",
            "Seed: 1074910586\n",
            "Default hyperparameters for environment (ones being tuned will be overridden):\n",
            "OrderedDict([('batch_size', 32),\n",
            "             ('buffer_size', 10000),\n",
            "             ('env_wrapper',\n",
            "              ['stable_baselines3.common.atari_wrappers.AtariWrapper']),\n",
            "             ('exploration_final_eps', 0.01),\n",
            "             ('exploration_fraction', 0.1),\n",
            "             ('frame_stack', 4),\n",
            "             ('gradient_steps', 1),\n",
            "             ('learning_rate', 0.0001),\n",
            "             ('learning_starts', 100000),\n",
            "             ('n_timesteps', 10000000.0),\n",
            "             ('optimize_memory_usage', True),\n",
            "             ('policy', 'CnnPolicy'),\n",
            "             ('target_update_interval', 1000),\n",
            "             ('train_freq', 4)])\n",
            "Using 1 environments\n",
            "Overwriting n_timesteps with n=5000\n",
            "Creating test environment\n",
            "Stacking 4 frames\n",
            "Wrapping into a VecTransposeImage\n",
            "Stacking 4 frames\n",
            "Wrapping into a VecTransposeImage\n",
            "Loading pretrained agent\n",
            "Log path: logs/dqn/PongNoFrameskip-v4_1\n",
            "----------------------------------\n",
            "| rollout/            |          |\n",
            "|    ep_len_mean      | 3.52e+03 |\n",
            "|    ep_rew_mean      | -20.5    |\n",
            "|    exploration rate | 0.01     |\n",
            "| time/               |          |\n",
            "|    episodes         | 4        |\n",
            "|    fps              | 557      |\n",
            "|    time_elapsed     | 6        |\n",
            "|    total timesteps  | 3492     |\n",
            "----------------------------------\n",
            "Saving to logs/dqn/PongNoFrameskip-v4_1\n"
          ],
          "name": "stdout"
        }
      ]
    },
    {
      "cell_type": "markdown",
      "metadata": {
        "id": "-fHBq73665yD"
      },
      "source": [
        "#### Evaluate trained agent\n",
        "\n",
        "\n",
        "You can remove the `--folder logs/` to evaluate pretrained agent."
      ]
    },
    {
      "cell_type": "code",
      "metadata": {
        "colab": {
          "base_uri": "https://localhost:8080/"
        },
        "id": "Bw8YuEgU6bT3",
        "outputId": "266d4a8d-9d34-46d6-bc01-a873266ffec7"
      },
      "source": [
        "!python enjoy.py --algo dqn --env PongNoFrameskip-v4 --no-render --n-timesteps 1000 --folder logs/"
      ],
      "execution_count": 7,
      "outputs": [
        {
          "output_type": "stream",
          "text": [
            "Loading latest experiment, id=3\n",
            "Loading logs/dqn/PongNoFrameskip-v4_3/PongNoFrameskip-v4.zip\n",
            "Stacking 4 frames\n",
            "Wrapping the env in a VecTransposeImage.\n",
            "Atari Episode Score: -21.00\n",
            "Atari Episode Length 3056\n"
          ],
          "name": "stdout"
        }
      ]
    },
    {
      "cell_type": "markdown",
      "metadata": {
        "id": "xVm9QPNVwKXN"
      },
      "source": [
        "### Record  a Video"
      ]
    },
    {
      "cell_type": "code",
      "metadata": {
        "id": "MPyfQxD5z26J"
      },
      "source": [
        "# Set up display; otherwise rendering will fail\n",
        "import os\n",
        "os.system(\"Xvfb :1 -screen 0 1024x768x24 &\")\n",
        "os.environ['DISPLAY'] = ':1'"
      ],
      "execution_count": 8,
      "outputs": []
    },
    {
      "cell_type": "code",
      "metadata": {
        "id": "ip3AauLzwNGP",
        "colab": {
          "base_uri": "https://localhost:8080/"
        },
        "outputId": "547298b1-1d0d-44be-f016-ec56cde93261"
      },
      "source": [
        "!python -m utils.record_video --algo dqn --env PongNoFrameskip-v4 --exp-id 0 -f logs/ -n 1000"
      ],
      "execution_count": 9,
      "outputs": [
        {
          "output_type": "stream",
          "text": [
            "Loading latest experiment, id=1\n",
            "Stacking 4 frames\n",
            "Saving video to /content/rl-baselines3-zoo/logs/dqn/PongNoFrameskip-v4_1/videos/final-model-dqn-PongNoFrameskip-v4-step-0-to-step-10000.mp4\n"
          ],
          "name": "stdout"
        }
      ]
    },
    {
      "cell_type": "markdown",
      "metadata": {
        "id": "qBuUfnzI8DN6"
      },
      "source": [
        "### Display the video"
      ]
    },
    {
      "cell_type": "code",
      "metadata": {
        "id": "ZC3OTfpf8CXu"
      },
      "source": [
        "import base64\n",
        "from pathlib import Path\n",
        "\n",
        "from IPython import display as ipythondisplay\n",
        "\n",
        "def show_videos(video_path='', prefix=''):\n",
        "  \"\"\"\n",
        "  Taken from https://github.com/eleurent/highway-env\n",
        "\n",
        "  :param video_path: (str) Path to the folder containing videos\n",
        "  :param prefix: (str) Filter the video, showing only the only starting with this prefix\n",
        "  \"\"\"\n",
        "  html = []\n",
        "  for mp4 in Path(video_path).glob(\"{}*.mp4\".format(prefix)):\n",
        "      video_b64 = base64.b64encode(mp4.read_bytes())\n",
        "      html.append('''<video alt=\"{}\" autoplay \n",
        "                    loop controls style=\"height: 400px;\">\n",
        "                    <source src=\"data:video/mp4;base64,{}\" type=\"video/mp4\" />\n",
        "                </video>'''.format(mp4, video_b64.decode('ascii')))\n",
        "  ipythondisplay.display(ipythondisplay.HTML(data=\"<br>\".join(html)))"
      ],
      "execution_count": null,
      "outputs": []
    },
    {
      "cell_type": "code",
      "metadata": {
        "id": "oKOjFuwK9HI0"
      },
      "source": [
        "show_videos(video_path='logs/videos/', prefix='dqn')"
      ],
      "execution_count": null,
      "outputs": []
    }
  ]
}